{
 "cells": [
  {
   "cell_type": "code",
   "execution_count": 40,
   "metadata": {
    "collapsed": false
   },
   "outputs": [],
   "source": [
    "from bs4 import BeautifulSoup\n",
    "import requests\n",
    "import pandas as pd\n",
    "text = requests.get('https://www.health.ny.gov/statistics/cancer/registry/appendix/neighborhoods.htm').text\n",
    "\n",
    "text = BeautifulSoup(text)\n",
    "\n",
    "responce = requests.get('https://www.health.ny.gov/statistics/cancer/registry/appendix/neighborhoods.htm')\n",
    "\n",
    "\n",
    "table = text.find('table', {\"summary\": \" \"})"
   ]
  },
  {
   "cell_type": "code",
   "execution_count": 18,
   "metadata": {
    "collapsed": false
   },
   "outputs": [],
   "source": [
    "v = text.table.find_all('tr')"
   ]
  },
  {
   "cell_type": "code",
   "execution_count": 20,
   "metadata": {
    "collapsed": false
   },
   "outputs": [
    {
     "data": {
      "text/plain": [
       "[<td headers=\"header2\"> Bronx Park and Fordham</td>,\n",
       " <td headers=\"header3\"> 10458, 10467, 10468</td>]"
      ]
     },
     "execution_count": 20,
     "metadata": {},
     "output_type": "execute_result"
    }
   ],
   "source": [
    "v[2].find_all('td')"
   ]
  },
  {
   "cell_type": "code",
   "execution_count": 26,
   "metadata": {
    "collapsed": false
   },
   "outputs": [
    {
     "data": {
      "text/plain": [
       "u' Bronx Park and Fordham'"
      ]
     },
     "execution_count": 26,
     "metadata": {},
     "output_type": "execute_result"
    }
   ],
   "source": [
    "v[2].find_all('td',{'headers':'header2'})[0].text"
   ]
  },
  {
   "cell_type": "code",
   "execution_count": 27,
   "metadata": {
    "collapsed": false
   },
   "outputs": [
    {
     "data": {
      "text/plain": [
       "u' 10458, 10467, 10468'"
      ]
     },
     "execution_count": 27,
     "metadata": {},
     "output_type": "execute_result"
    }
   ],
   "source": [
    "v[2].find_all('td',{'headers':'header3'})[0].text"
   ]
  },
  {
   "cell_type": "code",
   "execution_count": 55,
   "metadata": {
    "collapsed": false
   },
   "outputs": [
    {
     "name": "stdout",
     "output_type": "stream",
     "text": [
      "[u'Bronx']\n",
      "[u'Brooklyn']\n",
      "[u'Manhattan']\n",
      "[u'Queens']\n",
      "[u'Staten Island']\n"
     ]
    }
   ],
   "source": [
    "my_zip ={'borough':[],'neighbourhood':[],'zip':[]}\n",
    "\n",
    "for i in range(1,len(v)):\n",
    "    try:\n",
    "        my_zip['borough'] =my_zip['borough'] + [v[i].find_all('td',{'headers':'header1'})[0].text]\n",
    "        borough = [v[i].find_all('td',{'headers':'header1'})[0].text]\n",
    "        print borough\n",
    "    except:\n",
    "        my_zip['borough'] =my_zip['borough'] + borough\n",
    "    my_zip['neighbourhood'] = my_zip['neighbourhood'] + [v[i].find_all('td',{'headers':'header2'})[0].text]\n",
    "    my_zip['zip']= my_zip['zip'] + [v[i].find_all('td',{'headers':'header3'})[0].text]"
   ]
  },
  {
   "cell_type": "code",
   "execution_count": 60,
   "metadata": {
    "collapsed": false
   },
   "outputs": [],
   "source": [
    "my_data = pd.DataFrame(my_zip)"
   ]
  },
  {
   "cell_type": "code",
   "execution_count": 1,
   "metadata": {
    "collapsed": false
   },
   "outputs": [],
   "source": [
    "#my_data"
   ]
  },
  {
   "cell_type": "code",
   "execution_count": 62,
   "metadata": {
    "collapsed": true
   },
   "outputs": [],
   "source": [
    "my_data.to_csv('my_zips.csv')"
   ]
  },
  {
   "cell_type": "code",
   "execution_count": null,
   "metadata": {
    "collapsed": true
   },
   "outputs": [],
   "source": []
  }
 ],
 "metadata": {
  "kernelspec": {
   "display_name": "Python [conda root]",
   "language": "python",
   "name": "conda-root-py"
  },
  "language_info": {
   "codemirror_mode": {
    "name": "ipython",
    "version": 2
   },
   "file_extension": ".py",
   "mimetype": "text/x-python",
   "name": "python",
   "nbconvert_exporter": "python",
   "pygments_lexer": "ipython2",
   "version": "2.7.12"
  }
 },
 "nbformat": 4,
 "nbformat_minor": 2
}
