{
 "cells": [
  {
   "cell_type": "code",
   "execution_count": 2,
   "metadata": {
    "collapsed": true
   },
   "outputs": [],
   "source": [
    "import pandas as pd\n",
    "import numpy as np\n",
    "import re"
   ]
  },
  {
   "cell_type": "code",
   "execution_count": 662,
   "metadata": {
    "collapsed": false
   },
   "outputs": [
    {
     "data": {
      "text/plain": [
       "(135, 16)"
      ]
     },
     "execution_count": 662,
     "metadata": {},
     "output_type": "execute_result"
    }
   ],
   "source": [
    "df = pd.read_csv('~/Desktop/Bootcamp/Week5/listings_zillow.csv')\n",
    "df.shape"
   ]
  },
  {
   "cell_type": "code",
   "execution_count": 663,
   "metadata": {
    "collapsed": false
   },
   "outputs": [
    {
     "data": {
      "text/html": [
       "<div>\n",
       "<table border=\"1\" class=\"dataframe\">\n",
       "  <thead>\n",
       "    <tr style=\"text-align: right;\">\n",
       "      <th></th>\n",
       "      <th>address</th>\n",
       "      <th>price</th>\n",
       "      <th>floor_size</th>\n",
       "      <th>bathrooms</th>\n",
       "      <th>bedrooms</th>\n",
       "      <th>est_mortgage</th>\n",
       "      <th>zprice</th>\n",
       "      <th>latitude</th>\n",
       "      <th>longitude</th>\n",
       "      <th>FACTS</th>\n",
       "      <th>FEATURES</th>\n",
       "      <th>APPLIANCES INCLUDED</th>\n",
       "      <th>ROOM TYPES</th>\n",
       "      <th>CONSTRUCTION</th>\n",
       "      <th>ADDITIONAL FEATURES</th>\n",
       "      <th>OTHER</th>\n",
       "    </tr>\n",
       "  </thead>\n",
       "  <tbody>\n",
       "    <tr>\n",
       "      <th>0</th>\n",
       "      <td>124 Mackenzie St,\\rBrooklyn, NY 11235</td>\n",
       "      <td>$520,000</td>\n",
       "      <td>2,700 sqft</td>\n",
       "      <td>4 baths</td>\n",
       "      <td>3 beds</td>\n",
       "      <td>$1,966</td>\n",
       "      <td>$1,519,349</td>\n",
       "      <td>40580120</td>\n",
       "      <td>-73940420</td>\n",
       "      <td>NaN</td>\n",
       "      <td>\\r900 sqft basement\\rAttic\\rDeck\\rFinished bas...</td>\n",
       "      <td>\\rDishwasher\\rDryer\\rMicrowave\\rRefrigerator\\r...</td>\n",
       "      <td>\\rDining room\\rFamily room\\rLaundry room\\rMast...</td>\n",
       "      <td>\\rExterior material: Stucco\\rRoof type: Compos...</td>\n",
       "      <td>\\rJacuzzi / Whirlpool\\rLiving room\\rParking Ty...</td>\n",
       "      <td>\\rFloor size: 2,700 sqft\\rHeating: Gas\\rLast r...</td>\n",
       "    </tr>\n",
       "    <tr>\n",
       "      <th>1</th>\n",
       "      <td>36 Claver Pl,\\rBrooklyn, NY 11238</td>\n",
       "      <td>$3,195,000</td>\n",
       "      <td>4,500 sqft</td>\n",
       "      <td>6 baths</td>\n",
       "      <td>6 beds</td>\n",
       "      <td>$12,596</td>\n",
       "      <td>$2,649,417</td>\n",
       "      <td>40682095</td>\n",
       "      <td>-73957780</td>\n",
       "      <td>\\rLot: 2,000 sqft\\rMulti Family\\rBuilt in 1901...</td>\n",
       "      <td>\\rDeck\\rFenced Yard\\rFinished basement\\rFirepl...</td>\n",
       "      <td>\\rDishwasher\\rDryer\\rWasher</td>\n",
       "      <td>\\rDining room\\rFamily room\\rLibrary\\rOffice\\rW...</td>\n",
       "      <td>\\rExterior material: Other\\rStories: 4\\rStruct...</td>\n",
       "      <td>\\rVintage\\r\\r</td>\n",
       "      <td>\\rFloor size: 4,500 sqft\\rLast remodel year: 1...</td>\n",
       "    </tr>\n",
       "    <tr>\n",
       "      <th>2</th>\n",
       "      <td>755 Belmont Ave # 01,\\rBrooklyn, NY 11208</td>\n",
       "      <td>$499,000</td>\n",
       "      <td>#NAME?</td>\n",
       "      <td>3 baths</td>\n",
       "      <td>4 beds</td>\n",
       "      <td>$1,913</td>\n",
       "      <td>NaN</td>\n",
       "      <td>40672760</td>\n",
       "      <td>-73881840</td>\n",
       "      <td>\\rBaths: 2 full, 1 half\\rSingle Family\\r4 days...</td>\n",
       "      <td>\\r\\r</td>\n",
       "      <td>NaN</td>\n",
       "      <td>NaN</td>\n",
       "      <td>NaN</td>\n",
       "      <td>NaN</td>\n",
       "      <td>\\rLast remodel year: 2017\\rZillow Home ID: 209...</td>\n",
       "    </tr>\n",
       "    <tr>\n",
       "      <th>3</th>\n",
       "      <td>250 W 15th St APT I,\\rNew York, NY 10011</td>\n",
       "      <td>$850,000</td>\n",
       "      <td>725 sqft</td>\n",
       "      <td>1 bath</td>\n",
       "      <td>1 bed</td>\n",
       "      <td>$3,351</td>\n",
       "      <td>$901,980</td>\n",
       "      <td>40739900</td>\n",
       "      <td>-74001400</td>\n",
       "      <td>\\rCooperative\\rBuilt in 1930\\r8 days on Zillow...</td>\n",
       "      <td>\\rElevator\\rFireplace\\rGarden\\rPatio\\r</td>\n",
       "      <td>\\rDishwasher\\r\\r</td>\n",
       "      <td>NaN</td>\n",
       "      <td>\\rUnit count: 59\\r\\r</td>\n",
       "      <td>\\rbike_room\\rcats\\rco_purchase\\rdogs\\rgifts\\rl...</td>\n",
       "      <td>\\rFloor size: 725 sqft\\rZillow Home ID: 210055...</td>\n",
       "    </tr>\n",
       "    <tr>\n",
       "      <th>4</th>\n",
       "      <td>2318 E 63rd St,\\rBrooklyn, NY 11234</td>\n",
       "      <td>$1,890,000</td>\n",
       "      <td>4,800 sqft</td>\n",
       "      <td>4 baths</td>\n",
       "      <td>4 beds</td>\n",
       "      <td>$7,451</td>\n",
       "      <td>$1,711,219</td>\n",
       "      <td>40612465</td>\n",
       "      <td>-73909960</td>\n",
       "      <td>NaN</td>\n",
       "      <td>\\r1600 sqft basement\\rBarbecue\\rCable Ready\\rC...</td>\n",
       "      <td>\\rDishwasher\\rDryer\\rFreezer\\rGarbage disposal...</td>\n",
       "      <td>\\rBreakfast nook\\rDining room\\rFamily room\\rLa...</td>\n",
       "      <td>\\rExterior material: Brick, Metal, Other, Ston...</td>\n",
       "      <td>NaN</td>\n",
       "      <td>\\rFloor size: 4,800 sqft\\rHeating: Gas\\rLast r...</td>\n",
       "    </tr>\n",
       "  </tbody>\n",
       "</table>\n",
       "</div>"
      ],
      "text/plain": [
       "                                     address        price  floor_size  \\\n",
       "0      124 Mackenzie St,\\rBrooklyn, NY 11235    $520,000   2,700 sqft   \n",
       "1          36 Claver Pl,\\rBrooklyn, NY 11238  $3,195,000   4,500 sqft   \n",
       "2  755 Belmont Ave # 01,\\rBrooklyn, NY 11208    $499,000       #NAME?   \n",
       "3   250 W 15th St APT I,\\rNew York, NY 10011    $850,000     725 sqft   \n",
       "4        2318 E 63rd St,\\rBrooklyn, NY 11234  $1,890,000   4,800 sqft   \n",
       "\n",
       "  bathrooms bedrooms est_mortgage       zprice  latitude  longitude  \\\n",
       "0   4 baths   3 beds      $1,966   $1,519,349   40580120  -73940420   \n",
       "1   6 baths   6 beds     $12,596   $2,649,417   40682095  -73957780   \n",
       "2   3 baths   4 beds      $1,913           NaN  40672760  -73881840   \n",
       "3    1 bath    1 bed      $3,351     $901,980   40739900  -74001400   \n",
       "4   4 baths   4 beds      $7,451   $1,711,219   40612465  -73909960   \n",
       "\n",
       "                                               FACTS  \\\n",
       "0                                                NaN   \n",
       "1  \\rLot: 2,000 sqft\\rMulti Family\\rBuilt in 1901...   \n",
       "2  \\rBaths: 2 full, 1 half\\rSingle Family\\r4 days...   \n",
       "3  \\rCooperative\\rBuilt in 1930\\r8 days on Zillow...   \n",
       "4                                                NaN   \n",
       "\n",
       "                                            FEATURES  \\\n",
       "0  \\r900 sqft basement\\rAttic\\rDeck\\rFinished bas...   \n",
       "1  \\rDeck\\rFenced Yard\\rFinished basement\\rFirepl...   \n",
       "2                                               \\r\\r   \n",
       "3             \\rElevator\\rFireplace\\rGarden\\rPatio\\r   \n",
       "4  \\r1600 sqft basement\\rBarbecue\\rCable Ready\\rC...   \n",
       "\n",
       "                                 APPLIANCES INCLUDED  \\\n",
       "0  \\rDishwasher\\rDryer\\rMicrowave\\rRefrigerator\\r...   \n",
       "1                        \\rDishwasher\\rDryer\\rWasher   \n",
       "2                                                NaN   \n",
       "3                                   \\rDishwasher\\r\\r   \n",
       "4  \\rDishwasher\\rDryer\\rFreezer\\rGarbage disposal...   \n",
       "\n",
       "                                          ROOM TYPES  \\\n",
       "0  \\rDining room\\rFamily room\\rLaundry room\\rMast...   \n",
       "1  \\rDining room\\rFamily room\\rLibrary\\rOffice\\rW...   \n",
       "2                                                NaN   \n",
       "3                                                NaN   \n",
       "4  \\rBreakfast nook\\rDining room\\rFamily room\\rLa...   \n",
       "\n",
       "                                        CONSTRUCTION  \\\n",
       "0  \\rExterior material: Stucco\\rRoof type: Compos...   \n",
       "1  \\rExterior material: Other\\rStories: 4\\rStruct...   \n",
       "2                                                NaN   \n",
       "3                               \\rUnit count: 59\\r\\r   \n",
       "4  \\rExterior material: Brick, Metal, Other, Ston...   \n",
       "\n",
       "                                 ADDITIONAL FEATURES  \\\n",
       "0  \\rJacuzzi / Whirlpool\\rLiving room\\rParking Ty...   \n",
       "1                                      \\rVintage\\r\\r   \n",
       "2                                                NaN   \n",
       "3  \\rbike_room\\rcats\\rco_purchase\\rdogs\\rgifts\\rl...   \n",
       "4                                                NaN   \n",
       "\n",
       "                                               OTHER  \n",
       "0  \\rFloor size: 2,700 sqft\\rHeating: Gas\\rLast r...  \n",
       "1  \\rFloor size: 4,500 sqft\\rLast remodel year: 1...  \n",
       "2  \\rLast remodel year: 2017\\rZillow Home ID: 209...  \n",
       "3  \\rFloor size: 725 sqft\\rZillow Home ID: 210055...  \n",
       "4  \\rFloor size: 4,800 sqft\\rHeating: Gas\\rLast r...  "
      ]
     },
     "execution_count": 663,
     "metadata": {},
     "output_type": "execute_result"
    }
   ],
   "source": [
    "df.head()"
   ]
  },
  {
   "cell_type": "code",
   "execution_count": 664,
   "metadata": {
    "collapsed": false
   },
   "outputs": [
    {
     "data": {
      "text/plain": [
       "'\\rDeck\\rFenced Yard\\rFinished basement\\rFireplace\\rFlooring: Hardwood\\rGarden\\rIntercom\\rLawn\\rMother-in-Law Apartment\\rParking: None\\rPatio'"
      ]
     },
     "execution_count": 664,
     "metadata": {},
     "output_type": "execute_result"
    }
   ],
   "source": [
    "df['FEATURES'][1]"
   ]
  },
  {
   "cell_type": "code",
   "execution_count": 665,
   "metadata": {
    "collapsed": false
   },
   "outputs": [
    {
     "data": {
      "text/plain": [
       "'Deck\\rFenced Yard\\rFinished basement\\rFireplace\\rFlooring: Hardwood\\rGarden\\rIntercom\\rLawn\\rMother-in-Law Apartment\\rParking: None\\rPatio'"
      ]
     },
     "execution_count": 665,
     "metadata": {},
     "output_type": "execute_result"
    }
   ],
   "source": [
    "df['FEATURES'][1].strip()"
   ]
  },
  {
   "cell_type": "code",
   "execution_count": 666,
   "metadata": {
    "collapsed": false
   },
   "outputs": [],
   "source": [
    "v = df['FEATURES'][1]"
   ]
  },
  {
   "cell_type": "code",
   "execution_count": 667,
   "metadata": {
    "collapsed": false,
    "scrolled": true
   },
   "outputs": [
    {
     "data": {
      "text/plain": [
       "['Deck',\n",
       " 'Fenced Yard',\n",
       " 'Finished basement',\n",
       " 'Fireplace',\n",
       " 'Flooring: Hardwood',\n",
       " 'Garden',\n",
       " 'Intercom',\n",
       " 'Lawn',\n",
       " 'Mother-in-Law Apartment',\n",
       " 'Parking: None',\n",
       " 'Patio']"
      ]
     },
     "execution_count": 667,
     "metadata": {},
     "output_type": "execute_result"
    }
   ],
   "source": [
    "v.strip().split('\\r')"
   ]
  },
  {
   "cell_type": "code",
   "execution_count": null,
   "metadata": {
    "collapsed": false
   },
   "outputs": [],
   "source": []
  },
  {
   "cell_type": "code",
   "execution_count": 668,
   "metadata": {
    "collapsed": false
   },
   "outputs": [
    {
     "data": {
      "text/plain": [
       "0    \\r900 sqft basement\\rAttic\\rDeck\\rFinished bas...\n",
       "1    \\rDeck\\rFenced Yard\\rFinished basement\\rFirepl...\n",
       "2                                                 \\r\\r\n",
       "3               \\rElevator\\rFireplace\\rGarden\\rPatio\\r\n",
       "4    \\r1600 sqft basement\\rBarbecue\\rCable Ready\\rC...\n",
       "Name: FEATURES, dtype: object"
      ]
     },
     "execution_count": 668,
     "metadata": {},
     "output_type": "execute_result"
    }
   ],
   "source": [
    "df['FEATURES'].head()"
   ]
  },
  {
   "cell_type": "code",
   "execution_count": 669,
   "metadata": {
    "collapsed": false
   },
   "outputs": [
    {
     "data": {
      "text/plain": [
       "0        124 Mackenzie St,\\rBrooklyn, NY 11235\n",
       "1            36 Claver Pl,\\rBrooklyn, NY 11238\n",
       "2    755 Belmont Ave # 01,\\rBrooklyn, NY 11208\n",
       "3     250 W 15th St APT I,\\rNew York, NY 10011\n",
       "4          2318 E 63rd St,\\rBrooklyn, NY 11234\n",
       "Name: address, dtype: object"
      ]
     },
     "execution_count": 669,
     "metadata": {},
     "output_type": "execute_result"
    }
   ],
   "source": [
    "#lets clean all the columns\n",
    "#address\n",
    "df['address'].head()"
   ]
  },
  {
   "cell_type": "code",
   "execution_count": 670,
   "metadata": {
    "collapsed": false
   },
   "outputs": [
    {
     "data": {
      "text/plain": [
       "str"
      ]
     },
     "execution_count": 670,
     "metadata": {},
     "output_type": "execute_result"
    }
   ],
   "source": [
    "type(df['address'][2])"
   ]
  },
  {
   "cell_type": "code",
   "execution_count": 671,
   "metadata": {
    "collapsed": false
   },
   "outputs": [
    {
     "data": {
      "text/plain": [
       "['755 Belmont Ave # 01', '\\rBrooklyn', ' NY 11208']"
      ]
     },
     "execution_count": 671,
     "metadata": {},
     "output_type": "execute_result"
    }
   ],
   "source": [
    "df['address'][2].split(',')"
   ]
  },
  {
   "cell_type": "code",
   "execution_count": 672,
   "metadata": {
    "collapsed": false
   },
   "outputs": [
    {
     "data": {
      "text/plain": [
       "['755 Belmont Ave # 01', 'Brooklyn', 'NY 11208']"
      ]
     },
     "execution_count": 672,
     "metadata": {},
     "output_type": "execute_result"
    }
   ],
   "source": [
    "map(lambda x:x.strip(),df['address'][2].split(','))"
   ]
  },
  {
   "cell_type": "code",
   "execution_count": 673,
   "metadata": {
    "collapsed": false
   },
   "outputs": [],
   "source": [
    "# to strip a string\n",
    "def strip(x):\n",
    "    return x.strip()\n",
    "\n",
    "# to strip a list of strings\n",
    "def strip_list(L):\n",
    "    return map(strip,L)\n",
    "\n",
    "def split(x):\n",
    "    return x.split(',')\n",
    "\n",
    "def split_r(x):\n",
    "    return x.split('\\r')\n",
    "\n",
    "def clean_string(x):\n",
    "    return map(strip_list,map(split,df[x]))\n",
    "\n",
    "def clean_string_r(x):\n",
    "    return map(strip_list,map(split_r,strip_list(df[x])))\n"
   ]
  },
  {
   "cell_type": "code",
   "execution_count": 674,
   "metadata": {
    "collapsed": false,
    "scrolled": true
   },
   "outputs": [
    {
     "name": "stdout",
     "output_type": "stream",
     "text": [
      "['755 Belmont Ave # 01', '\\rBrooklyn', ' NY 11208']\n",
      "['755 Belmont Ave # 01', 'Brooklyn', 'NY 11208']\n",
      "['755 Belmont Ave # 01', 'Brooklyn', 'NY 11208']\n"
     ]
    }
   ],
   "source": [
    "print df['address'][2].split(',')\n",
    "\n",
    "print map(strip,df['address'][2].split(','))\n",
    "\n",
    "print strip_list(df['address'][2].split(','))"
   ]
  },
  {
   "cell_type": "code",
   "execution_count": 675,
   "metadata": {
    "collapsed": false
   },
   "outputs": [],
   "source": [
    "# here the 'address' column is cleaned and converted into a list of ['street','borogh', 'state zip']\n",
    "df['address'] = map(strip_list,map(lambda x:x.split(','),df['address']))"
   ]
  },
  {
   "cell_type": "code",
   "execution_count": null,
   "metadata": {
    "collapsed": true
   },
   "outputs": [],
   "source": []
  },
  {
   "cell_type": "code",
   "execution_count": 676,
   "metadata": {
    "collapsed": false
   },
   "outputs": [
    {
     "data": {
      "text/plain": [
       "0    \\rDining room\\rFamily room\\rLaundry room\\rMast...\n",
       "1    \\rDining room\\rFamily room\\rLibrary\\rOffice\\rW...\n",
       "2                                                  NaN\n",
       "3                                                  NaN\n",
       "4    \\rBreakfast nook\\rDining room\\rFamily room\\rLa...\n",
       "Name: ROOM TYPES, dtype: object"
      ]
     },
     "execution_count": 676,
     "metadata": {},
     "output_type": "execute_result"
    }
   ],
   "source": [
    "df['ROOM TYPES'].head()"
   ]
  },
  {
   "cell_type": "code",
   "execution_count": 677,
   "metadata": {
    "collapsed": false
   },
   "outputs": [
    {
     "data": {
      "text/plain": [
       "['Dining room', 'Family room', 'Library', 'Office', 'Walk-in closet']"
      ]
     },
     "execution_count": 677,
     "metadata": {},
     "output_type": "execute_result"
    }
   ],
   "source": [
    "strip(df['ROOM TYPES'][1])\n",
    "split_r(strip(df['ROOM TYPES'][1]))"
   ]
  },
  {
   "cell_type": "code",
   "execution_count": 678,
   "metadata": {
    "collapsed": false
   },
   "outputs": [
    {
     "data": {
      "text/plain": [
       "address                object\n",
       "price                  object\n",
       "floor_size             object\n",
       "bathrooms              object\n",
       "bedrooms               object\n",
       "est_mortgage           object\n",
       "zprice                 object\n",
       "latitude                int64\n",
       "longitude               int64\n",
       "FACTS                  object\n",
       "FEATURES               object\n",
       "APPLIANCES INCLUDED    object\n",
       "ROOM TYPES             object\n",
       "CONSTRUCTION           object\n",
       "ADDITIONAL FEATURES    object\n",
       "OTHER                  object\n",
       "dtype: object"
      ]
     },
     "execution_count": 678,
     "metadata": {},
     "output_type": "execute_result"
    }
   ],
   "source": [
    "df.dtypes"
   ]
  },
  {
   "cell_type": "code",
   "execution_count": 679,
   "metadata": {
    "collapsed": false
   },
   "outputs": [
    {
     "data": {
      "text/plain": [
       "'$850,000 '"
      ]
     },
     "execution_count": 679,
     "metadata": {},
     "output_type": "execute_result"
    }
   ],
   "source": [
    "df['price'][3]"
   ]
  },
  {
   "cell_type": "code",
   "execution_count": 680,
   "metadata": {
    "collapsed": false
   },
   "outputs": [],
   "source": [
    "#df[['ROOM TYPES','ADDITIONAL FEATURES','APPLIANCES INCLUDED','FACTS','OTHER','CONSTRUCTION']].astype(str)"
   ]
  },
  {
   "cell_type": "code",
   "execution_count": 681,
   "metadata": {
    "collapsed": false
   },
   "outputs": [],
   "source": [
    "# converting intp strings the last 7 columns\n",
    "df.iloc[:,9:16]=df.iloc[:,9:16].astype(str)"
   ]
  },
  {
   "cell_type": "code",
   "execution_count": 682,
   "metadata": {
    "collapsed": false
   },
   "outputs": [
    {
     "data": {
      "text/plain": [
       "address                object\n",
       "price                  object\n",
       "floor_size             object\n",
       "bathrooms              object\n",
       "bedrooms               object\n",
       "est_mortgage           object\n",
       "zprice                 object\n",
       "latitude                int64\n",
       "longitude               int64\n",
       "FACTS                  object\n",
       "FEATURES               object\n",
       "APPLIANCES INCLUDED    object\n",
       "ROOM TYPES             object\n",
       "CONSTRUCTION           object\n",
       "ADDITIONAL FEATURES    object\n",
       "OTHER                  object\n",
       "dtype: object"
      ]
     },
     "execution_count": 682,
     "metadata": {},
     "output_type": "execute_result"
    }
   ],
   "source": [
    "df.dtypes"
   ]
  },
  {
   "cell_type": "code",
   "execution_count": 683,
   "metadata": {
    "collapsed": false
   },
   "outputs": [],
   "source": [
    "df[['ROOM TYPES','ADDITIONAL FEATURES','APPLIANCES INCLUDED','FACTS','OTHER','CONSTRUCTION']]=\\\n",
    "df[['ROOM TYPES','ADDITIONAL FEATURES','APPLIANCES INCLUDED','FACTS','OTHER','CONSTRUCTION']].astype(str)"
   ]
  },
  {
   "cell_type": "code",
   "execution_count": 684,
   "metadata": {
    "collapsed": false
   },
   "outputs": [
    {
     "data": {
      "text/plain": [
       "address                object\n",
       "price                  object\n",
       "floor_size             object\n",
       "bathrooms              object\n",
       "bedrooms               object\n",
       "est_mortgage           object\n",
       "zprice                 object\n",
       "latitude                int64\n",
       "longitude               int64\n",
       "FACTS                  object\n",
       "FEATURES               object\n",
       "APPLIANCES INCLUDED    object\n",
       "ROOM TYPES             object\n",
       "CONSTRUCTION           object\n",
       "ADDITIONAL FEATURES    object\n",
       "OTHER                  object\n",
       "dtype: object"
      ]
     },
     "execution_count": 684,
     "metadata": {},
     "output_type": "execute_result"
    }
   ],
   "source": [
    "df.dtypes"
   ]
  },
  {
   "cell_type": "code",
   "execution_count": 685,
   "metadata": {
    "collapsed": false
   },
   "outputs": [
    {
     "data": {
      "text/plain": [
       "0    \\rDining room\\rFamily room\\rLaundry room\\rMast...\n",
       "1    \\rDining room\\rFamily room\\rLibrary\\rOffice\\rW...\n",
       "2                                                  nan\n",
       "3                                                  nan\n",
       "4    \\rBreakfast nook\\rDining room\\rFamily room\\rLa...\n",
       "Name: ROOM TYPES, dtype: object"
      ]
     },
     "execution_count": 685,
     "metadata": {},
     "output_type": "execute_result"
    }
   ],
   "source": [
    "df['ROOM TYPES'].head()"
   ]
  },
  {
   "cell_type": "code",
   "execution_count": 686,
   "metadata": {
    "collapsed": false
   },
   "outputs": [],
   "source": [
    "#clean_string_r('ROOM TYPES')"
   ]
  },
  {
   "cell_type": "code",
   "execution_count": 687,
   "metadata": {
    "collapsed": false
   },
   "outputs": [],
   "source": [
    "col_to_clean = ['FEATURES','ROOM TYPES','ADDITIONAL FEATURES','APPLIANCES INCLUDED','FACTS','OTHER','CONSTRUCTION']"
   ]
  },
  {
   "cell_type": "code",
   "execution_count": 688,
   "metadata": {
    "collapsed": false
   },
   "outputs": [],
   "source": [
    "for col in col_to_clean:\n",
    "    df[col]=clean_string_r(col)"
   ]
  },
  {
   "cell_type": "code",
   "execution_count": 689,
   "metadata": {
    "collapsed": false
   },
   "outputs": [
    {
     "data": {
      "text/html": [
       "<div>\n",
       "<table border=\"1\" class=\"dataframe\">\n",
       "  <thead>\n",
       "    <tr style=\"text-align: right;\">\n",
       "      <th></th>\n",
       "      <th>address</th>\n",
       "      <th>price</th>\n",
       "      <th>floor_size</th>\n",
       "      <th>bathrooms</th>\n",
       "      <th>bedrooms</th>\n",
       "      <th>est_mortgage</th>\n",
       "      <th>zprice</th>\n",
       "      <th>latitude</th>\n",
       "      <th>longitude</th>\n",
       "      <th>FACTS</th>\n",
       "      <th>FEATURES</th>\n",
       "      <th>APPLIANCES INCLUDED</th>\n",
       "      <th>ROOM TYPES</th>\n",
       "      <th>CONSTRUCTION</th>\n",
       "      <th>ADDITIONAL FEATURES</th>\n",
       "      <th>OTHER</th>\n",
       "    </tr>\n",
       "  </thead>\n",
       "  <tbody>\n",
       "    <tr>\n",
       "      <th>0</th>\n",
       "      <td>[124 Mackenzie St, Brooklyn, NY 11235]</td>\n",
       "      <td>$520,000</td>\n",
       "      <td>2,700 sqft</td>\n",
       "      <td>4 baths</td>\n",
       "      <td>3 beds</td>\n",
       "      <td>$1,966</td>\n",
       "      <td>$1,519,349</td>\n",
       "      <td>40580120</td>\n",
       "      <td>-73940420</td>\n",
       "      <td>[nan]</td>\n",
       "      <td>[900 sqft basement, Attic, Deck, Finished base...</td>\n",
       "      <td>[Dishwasher, Dryer, Microwave, Refrigerator, W...</td>\n",
       "      <td>[Dining room, Family room, Laundry room, Maste...</td>\n",
       "      <td>[Exterior material: Stucco, Roof type: Composi...</td>\n",
       "      <td>[Jacuzzi / Whirlpool, Living room, Parking Typ...</td>\n",
       "      <td>[Floor size: 2,700 sqft, Heating: Gas, Last re...</td>\n",
       "    </tr>\n",
       "    <tr>\n",
       "      <th>1</th>\n",
       "      <td>[36 Claver Pl, Brooklyn, NY 11238]</td>\n",
       "      <td>$3,195,000</td>\n",
       "      <td>4,500 sqft</td>\n",
       "      <td>6 baths</td>\n",
       "      <td>6 beds</td>\n",
       "      <td>$12,596</td>\n",
       "      <td>$2,649,417</td>\n",
       "      <td>40682095</td>\n",
       "      <td>-73957780</td>\n",
       "      <td>[Lot: 2,000 sqft, Multi Family, Built in 1901,...</td>\n",
       "      <td>[Deck, Fenced Yard, Finished basement, Firepla...</td>\n",
       "      <td>[Dishwasher, Dryer, Washer]</td>\n",
       "      <td>[Dining room, Family room, Library, Office, Wa...</td>\n",
       "      <td>[Exterior material: Other, Stories: 4, Structu...</td>\n",
       "      <td>[Vintage]</td>\n",
       "      <td>[Floor size: 4,500 sqft, Last remodel year: 19...</td>\n",
       "    </tr>\n",
       "    <tr>\n",
       "      <th>2</th>\n",
       "      <td>[755 Belmont Ave # 01, Brooklyn, NY 11208]</td>\n",
       "      <td>$499,000</td>\n",
       "      <td>#NAME?</td>\n",
       "      <td>3 baths</td>\n",
       "      <td>4 beds</td>\n",
       "      <td>$1,913</td>\n",
       "      <td>NaN</td>\n",
       "      <td>40672760</td>\n",
       "      <td>-73881840</td>\n",
       "      <td>[Baths: 2 full, 1 half, Single Family, 4 days ...</td>\n",
       "      <td>[]</td>\n",
       "      <td>[nan]</td>\n",
       "      <td>[nan]</td>\n",
       "      <td>[nan]</td>\n",
       "      <td>[nan]</td>\n",
       "      <td>[Last remodel year: 2017, Zillow Home ID: 2095...</td>\n",
       "    </tr>\n",
       "    <tr>\n",
       "      <th>3</th>\n",
       "      <td>[250 W 15th St APT I, New York, NY 10011]</td>\n",
       "      <td>$850,000</td>\n",
       "      <td>725 sqft</td>\n",
       "      <td>1 bath</td>\n",
       "      <td>1 bed</td>\n",
       "      <td>$3,351</td>\n",
       "      <td>$901,980</td>\n",
       "      <td>40739900</td>\n",
       "      <td>-74001400</td>\n",
       "      <td>[Cooperative, Built in 1930, 8 days on Zillow,...</td>\n",
       "      <td>[Elevator, Fireplace, Garden, Patio]</td>\n",
       "      <td>[Dishwasher]</td>\n",
       "      <td>[nan]</td>\n",
       "      <td>[Unit count: 59]</td>\n",
       "      <td>[bike_room, cats, co_purchase, dogs, gifts, li...</td>\n",
       "      <td>[Floor size: 725 sqft, Zillow Home ID: 2100550...</td>\n",
       "    </tr>\n",
       "    <tr>\n",
       "      <th>4</th>\n",
       "      <td>[2318 E 63rd St, Brooklyn, NY 11234]</td>\n",
       "      <td>$1,890,000</td>\n",
       "      <td>4,800 sqft</td>\n",
       "      <td>4 baths</td>\n",
       "      <td>4 beds</td>\n",
       "      <td>$7,451</td>\n",
       "      <td>$1,711,219</td>\n",
       "      <td>40612465</td>\n",
       "      <td>-73909960</td>\n",
       "      <td>[nan]</td>\n",
       "      <td>[1600 sqft basement, Barbecue, Cable Ready, Co...</td>\n",
       "      <td>[Dishwasher, Dryer, Freezer, Garbage disposal,...</td>\n",
       "      <td>[Breakfast nook, Dining room, Family room, Lau...</td>\n",
       "      <td>[Exterior material: Brick, Metal, Other, Stone...</td>\n",
       "      <td>[nan]</td>\n",
       "      <td>[Floor size: 4,800 sqft, Heating: Gas, Last re...</td>\n",
       "    </tr>\n",
       "  </tbody>\n",
       "</table>\n",
       "</div>"
      ],
      "text/plain": [
       "                                      address        price  floor_size  \\\n",
       "0      [124 Mackenzie St, Brooklyn, NY 11235]    $520,000   2,700 sqft   \n",
       "1          [36 Claver Pl, Brooklyn, NY 11238]  $3,195,000   4,500 sqft   \n",
       "2  [755 Belmont Ave # 01, Brooklyn, NY 11208]    $499,000       #NAME?   \n",
       "3   [250 W 15th St APT I, New York, NY 10011]    $850,000     725 sqft   \n",
       "4        [2318 E 63rd St, Brooklyn, NY 11234]  $1,890,000   4,800 sqft   \n",
       "\n",
       "  bathrooms bedrooms est_mortgage       zprice  latitude  longitude  \\\n",
       "0   4 baths   3 beds      $1,966   $1,519,349   40580120  -73940420   \n",
       "1   6 baths   6 beds     $12,596   $2,649,417   40682095  -73957780   \n",
       "2   3 baths   4 beds      $1,913           NaN  40672760  -73881840   \n",
       "3    1 bath    1 bed      $3,351     $901,980   40739900  -74001400   \n",
       "4   4 baths   4 beds      $7,451   $1,711,219   40612465  -73909960   \n",
       "\n",
       "                                               FACTS  \\\n",
       "0                                              [nan]   \n",
       "1  [Lot: 2,000 sqft, Multi Family, Built in 1901,...   \n",
       "2  [Baths: 2 full, 1 half, Single Family, 4 days ...   \n",
       "3  [Cooperative, Built in 1930, 8 days on Zillow,...   \n",
       "4                                              [nan]   \n",
       "\n",
       "                                            FEATURES  \\\n",
       "0  [900 sqft basement, Attic, Deck, Finished base...   \n",
       "1  [Deck, Fenced Yard, Finished basement, Firepla...   \n",
       "2                                                 []   \n",
       "3               [Elevator, Fireplace, Garden, Patio]   \n",
       "4  [1600 sqft basement, Barbecue, Cable Ready, Co...   \n",
       "\n",
       "                                 APPLIANCES INCLUDED  \\\n",
       "0  [Dishwasher, Dryer, Microwave, Refrigerator, W...   \n",
       "1                        [Dishwasher, Dryer, Washer]   \n",
       "2                                              [nan]   \n",
       "3                                       [Dishwasher]   \n",
       "4  [Dishwasher, Dryer, Freezer, Garbage disposal,...   \n",
       "\n",
       "                                          ROOM TYPES  \\\n",
       "0  [Dining room, Family room, Laundry room, Maste...   \n",
       "1  [Dining room, Family room, Library, Office, Wa...   \n",
       "2                                              [nan]   \n",
       "3                                              [nan]   \n",
       "4  [Breakfast nook, Dining room, Family room, Lau...   \n",
       "\n",
       "                                        CONSTRUCTION  \\\n",
       "0  [Exterior material: Stucco, Roof type: Composi...   \n",
       "1  [Exterior material: Other, Stories: 4, Structu...   \n",
       "2                                              [nan]   \n",
       "3                                   [Unit count: 59]   \n",
       "4  [Exterior material: Brick, Metal, Other, Stone...   \n",
       "\n",
       "                                 ADDITIONAL FEATURES  \\\n",
       "0  [Jacuzzi / Whirlpool, Living room, Parking Typ...   \n",
       "1                                          [Vintage]   \n",
       "2                                              [nan]   \n",
       "3  [bike_room, cats, co_purchase, dogs, gifts, li...   \n",
       "4                                              [nan]   \n",
       "\n",
       "                                               OTHER  \n",
       "0  [Floor size: 2,700 sqft, Heating: Gas, Last re...  \n",
       "1  [Floor size: 4,500 sqft, Last remodel year: 19...  \n",
       "2  [Last remodel year: 2017, Zillow Home ID: 2095...  \n",
       "3  [Floor size: 725 sqft, Zillow Home ID: 2100550...  \n",
       "4  [Floor size: 4,800 sqft, Heating: Gas, Last re...  "
      ]
     },
     "execution_count": 689,
     "metadata": {},
     "output_type": "execute_result"
    }
   ],
   "source": [
    "df.head()"
   ]
  },
  {
   "cell_type": "code",
   "execution_count": 690,
   "metadata": {
    "collapsed": false
   },
   "outputs": [
    {
     "data": {
      "text/plain": [
       "['Jacuzzi / Whirlpool', 'Living room', 'Parking Type: Garage Detached']"
      ]
     },
     "execution_count": 690,
     "metadata": {},
     "output_type": "execute_result"
    }
   ],
   "source": [
    "df['ADDITIONAL FEATURES'][0]"
   ]
  },
  {
   "cell_type": "code",
   "execution_count": 691,
   "metadata": {
    "collapsed": false
   },
   "outputs": [
    {
     "data": {
      "text/plain": [
       "'Jacuzzi / Whirlpool'"
      ]
     },
     "execution_count": 691,
     "metadata": {},
     "output_type": "execute_result"
    }
   ],
   "source": [
    "df['ADDITIONAL FEATURES'][0][0]"
   ]
  },
  {
   "cell_type": "code",
   "execution_count": null,
   "metadata": {
    "collapsed": true
   },
   "outputs": [],
   "source": []
  },
  {
   "cell_type": "code",
   "execution_count": 692,
   "metadata": {
    "collapsed": false
   },
   "outputs": [
    {
     "data": {
      "text/plain": [
       "'$3,195,000 '"
      ]
     },
     "execution_count": 692,
     "metadata": {},
     "output_type": "execute_result"
    }
   ],
   "source": [
    "#now lets do the price, zestimate and est_mortgage\n",
    "p = df['price'][1]\n",
    "p"
   ]
  },
  {
   "cell_type": "code",
   "execution_count": 693,
   "metadata": {
    "collapsed": false
   },
   "outputs": [
    {
     "data": {
      "text/plain": [
       "'3,195,000'"
      ]
     },
     "execution_count": 693,
     "metadata": {},
     "output_type": "execute_result"
    }
   ],
   "source": [
    "p.strip('$').strip(' ')"
   ]
  },
  {
   "cell_type": "code",
   "execution_count": 694,
   "metadata": {
    "collapsed": true
   },
   "outputs": [],
   "source": [
    "import re"
   ]
  },
  {
   "cell_type": "code",
   "execution_count": 695,
   "metadata": {
    "collapsed": false
   },
   "outputs": [
    {
     "data": {
      "text/plain": [
       "'3195000'"
      ]
     },
     "execution_count": 695,
     "metadata": {},
     "output_type": "execute_result"
    }
   ],
   "source": [
    "re.sub('[^0-9]','',p)"
   ]
  },
  {
   "cell_type": "code",
   "execution_count": 696,
   "metadata": {
    "collapsed": false
   },
   "outputs": [],
   "source": [
    "df['price']=map(lambda p: re.sub('[^0-9]','',p),df['price'])"
   ]
  },
  {
   "cell_type": "code",
   "execution_count": 697,
   "metadata": {
    "collapsed": false
   },
   "outputs": [],
   "source": [
    "# df['price'].astype(float,raise_)\n",
    "df['price']=pd.to_numeric(df['price'])"
   ]
  },
  {
   "cell_type": "code",
   "execution_count": 698,
   "metadata": {
    "collapsed": false
   },
   "outputs": [
    {
     "data": {
      "text/plain": [
       "3195000.0"
      ]
     },
     "execution_count": 698,
     "metadata": {},
     "output_type": "execute_result"
    }
   ],
   "source": [
    "df['price'][1]"
   ]
  },
  {
   "cell_type": "code",
   "execution_count": 699,
   "metadata": {
    "collapsed": false
   },
   "outputs": [
    {
     "data": {
      "text/plain": [
       "'4,500 sqft'"
      ]
     },
     "execution_count": 699,
     "metadata": {},
     "output_type": "execute_result"
    }
   ],
   "source": [
    "df['floor_size'][1]"
   ]
  },
  {
   "cell_type": "code",
   "execution_count": 700,
   "metadata": {
    "collapsed": false
   },
   "outputs": [
    {
     "data": {
      "text/plain": [
       "address                 object\n",
       "price                  float64\n",
       "floor_size              object\n",
       "bathrooms               object\n",
       "bedrooms                object\n",
       "est_mortgage            object\n",
       "zprice                  object\n",
       "latitude                 int64\n",
       "longitude                int64\n",
       "FACTS                   object\n",
       "FEATURES                object\n",
       "APPLIANCES INCLUDED     object\n",
       "ROOM TYPES              object\n",
       "CONSTRUCTION            object\n",
       "ADDITIONAL FEATURES     object\n",
       "OTHER                   object\n",
       "dtype: object"
      ]
     },
     "execution_count": 700,
     "metadata": {},
     "output_type": "execute_result"
    }
   ],
   "source": [
    "df.dtypes"
   ]
  },
  {
   "cell_type": "code",
   "execution_count": 701,
   "metadata": {
    "collapsed": false
   },
   "outputs": [],
   "source": [
    "df['floor_size']=map(lambda p: re.sub('[^0-9]','',p),df['floor_size'])"
   ]
  },
  {
   "cell_type": "code",
   "execution_count": 702,
   "metadata": {
    "collapsed": false
   },
   "outputs": [
    {
     "data": {
      "text/plain": [
       "0    2700\n",
       "1    4500\n",
       "2        \n",
       "3     725\n",
       "4    4800\n",
       "Name: floor_size, dtype: object"
      ]
     },
     "execution_count": 702,
     "metadata": {},
     "output_type": "execute_result"
    }
   ],
   "source": [
    "df['floor_size'].head()"
   ]
  },
  {
   "cell_type": "code",
   "execution_count": 703,
   "metadata": {
    "collapsed": false
   },
   "outputs": [
    {
     "data": {
      "text/plain": [
       "str"
      ]
     },
     "execution_count": 703,
     "metadata": {},
     "output_type": "execute_result"
    }
   ],
   "source": [
    "type(df['zprice'][1])"
   ]
  },
  {
   "cell_type": "code",
   "execution_count": 704,
   "metadata": {
    "collapsed": false
   },
   "outputs": [],
   "source": [
    "df['est_mortgage']=map(lambda p: re.sub('[^0-9]','',p),map(str,df['est_mortgage']))"
   ]
  },
  {
   "cell_type": "code",
   "execution_count": 705,
   "metadata": {
    "collapsed": false
   },
   "outputs": [
    {
     "data": {
      "text/plain": [
       "0     1966\n",
       "1    12596\n",
       "2     1913\n",
       "3     3351\n",
       "4     7451\n",
       "Name: est_mortgage, dtype: object"
      ]
     },
     "execution_count": 705,
     "metadata": {},
     "output_type": "execute_result"
    }
   ],
   "source": [
    "df['est_mortgage'].head()"
   ]
  },
  {
   "cell_type": "code",
   "execution_count": 706,
   "metadata": {
    "collapsed": false
   },
   "outputs": [],
   "source": [
    "zprice = df['zprice'].head(5)\n"
   ]
  },
  {
   "cell_type": "code",
   "execution_count": 707,
   "metadata": {
    "collapsed": false
   },
   "outputs": [],
   "source": [
    "df['zprice']=map(lambda p: re.sub('[^0-9]','',p),map(str,df['zprice']))"
   ]
  },
  {
   "cell_type": "code",
   "execution_count": 708,
   "metadata": {
    "collapsed": false
   },
   "outputs": [
    {
     "data": {
      "text/plain": [
       "0    1519349\n",
       "1    2649417\n",
       "2           \n",
       "3     901980\n",
       "4    1711219\n",
       "5     292405\n",
       "6    1077154\n",
       "7     929313\n",
       "8     477226\n",
       "9           \n",
       "Name: zprice, dtype: object"
      ]
     },
     "execution_count": 708,
     "metadata": {},
     "output_type": "execute_result"
    }
   ],
   "source": [
    "df['zprice'].head(10)"
   ]
  },
  {
   "cell_type": "code",
   "execution_count": 709,
   "metadata": {
    "collapsed": false
   },
   "outputs": [],
   "source": [
    "for names in ['bathrooms','bedrooms']:\n",
    "    df[names]=map(lambda p: re.sub('[^0-9]','',p),map(str,df[names]))"
   ]
  },
  {
   "cell_type": "code",
   "execution_count": 710,
   "metadata": {
    "collapsed": false
   },
   "outputs": [
    {
     "data": {
      "text/html": [
       "<div>\n",
       "<table border=\"1\" class=\"dataframe\">\n",
       "  <thead>\n",
       "    <tr style=\"text-align: right;\">\n",
       "      <th></th>\n",
       "      <th>bathrooms</th>\n",
       "      <th>bedrooms</th>\n",
       "    </tr>\n",
       "  </thead>\n",
       "  <tbody>\n",
       "    <tr>\n",
       "      <th>0</th>\n",
       "      <td>4</td>\n",
       "      <td>3</td>\n",
       "    </tr>\n",
       "    <tr>\n",
       "      <th>1</th>\n",
       "      <td>6</td>\n",
       "      <td>6</td>\n",
       "    </tr>\n",
       "    <tr>\n",
       "      <th>2</th>\n",
       "      <td>3</td>\n",
       "      <td>4</td>\n",
       "    </tr>\n",
       "    <tr>\n",
       "      <th>3</th>\n",
       "      <td>1</td>\n",
       "      <td>1</td>\n",
       "    </tr>\n",
       "    <tr>\n",
       "      <th>4</th>\n",
       "      <td>4</td>\n",
       "      <td>4</td>\n",
       "    </tr>\n",
       "  </tbody>\n",
       "</table>\n",
       "</div>"
      ],
      "text/plain": [
       "  bathrooms bedrooms\n",
       "0         4        3\n",
       "1         6        6\n",
       "2         3        4\n",
       "3         1        1\n",
       "4         4        4"
      ]
     },
     "execution_count": 710,
     "metadata": {},
     "output_type": "execute_result"
    }
   ],
   "source": [
    "df[['bathrooms','bedrooms']].head()"
   ]
  },
  {
   "cell_type": "code",
   "execution_count": 711,
   "metadata": {
    "collapsed": false
   },
   "outputs": [],
   "source": [
    "for x in ['bathrooms','bedrooms','zprice','floor_size','est_mortgage']:\n",
    "    df[x]=pd.to_numeric(df[x])"
   ]
  },
  {
   "cell_type": "code",
   "execution_count": 712,
   "metadata": {
    "collapsed": false
   },
   "outputs": [
    {
     "data": {
      "text/plain": [
       "address                 object\n",
       "price                  float64\n",
       "floor_size             float64\n",
       "bathrooms              float64\n",
       "bedrooms               float64\n",
       "est_mortgage           float64\n",
       "zprice                 float64\n",
       "latitude                 int64\n",
       "longitude                int64\n",
       "FACTS                   object\n",
       "FEATURES                object\n",
       "APPLIANCES INCLUDED     object\n",
       "ROOM TYPES              object\n",
       "CONSTRUCTION            object\n",
       "ADDITIONAL FEATURES     object\n",
       "OTHER                   object\n",
       "dtype: object"
      ]
     },
     "execution_count": 712,
     "metadata": {},
     "output_type": "execute_result"
    }
   ],
   "source": [
    "df.dtypes"
   ]
  },
  {
   "cell_type": "code",
   "execution_count": 713,
   "metadata": {
    "collapsed": true
   },
   "outputs": [],
   "source": [
    "# df.to_csv('listings_clean.csv')"
   ]
  },
  {
   "cell_type": "code",
   "execution_count": 714,
   "metadata": {
    "collapsed": false
   },
   "outputs": [
    {
     "data": {
      "text/html": [
       "<div>\n",
       "<table border=\"1\" class=\"dataframe\">\n",
       "  <thead>\n",
       "    <tr style=\"text-align: right;\">\n",
       "      <th></th>\n",
       "      <th>address</th>\n",
       "      <th>price</th>\n",
       "      <th>floor_size</th>\n",
       "      <th>bathrooms</th>\n",
       "      <th>bedrooms</th>\n",
       "      <th>est_mortgage</th>\n",
       "      <th>zprice</th>\n",
       "      <th>latitude</th>\n",
       "      <th>longitude</th>\n",
       "      <th>FACTS</th>\n",
       "      <th>FEATURES</th>\n",
       "      <th>APPLIANCES INCLUDED</th>\n",
       "      <th>ROOM TYPES</th>\n",
       "      <th>CONSTRUCTION</th>\n",
       "      <th>ADDITIONAL FEATURES</th>\n",
       "      <th>OTHER</th>\n",
       "    </tr>\n",
       "  </thead>\n",
       "  <tbody>\n",
       "    <tr>\n",
       "      <th>0</th>\n",
       "      <td>[124 Mackenzie St, Brooklyn, NY 11235]</td>\n",
       "      <td>520000.0</td>\n",
       "      <td>2700.0</td>\n",
       "      <td>4.0</td>\n",
       "      <td>3.0</td>\n",
       "      <td>1966.0</td>\n",
       "      <td>1519349.0</td>\n",
       "      <td>40580120</td>\n",
       "      <td>-73940420</td>\n",
       "      <td>[nan]</td>\n",
       "      <td>[900 sqft basement, Attic, Deck, Finished base...</td>\n",
       "      <td>[Dishwasher, Dryer, Microwave, Refrigerator, W...</td>\n",
       "      <td>[Dining room, Family room, Laundry room, Maste...</td>\n",
       "      <td>[Exterior material: Stucco, Roof type: Composi...</td>\n",
       "      <td>[Jacuzzi / Whirlpool, Living room, Parking Typ...</td>\n",
       "      <td>[Floor size: 2,700 sqft, Heating: Gas, Last re...</td>\n",
       "    </tr>\n",
       "    <tr>\n",
       "      <th>1</th>\n",
       "      <td>[36 Claver Pl, Brooklyn, NY 11238]</td>\n",
       "      <td>3195000.0</td>\n",
       "      <td>4500.0</td>\n",
       "      <td>6.0</td>\n",
       "      <td>6.0</td>\n",
       "      <td>12596.0</td>\n",
       "      <td>2649417.0</td>\n",
       "      <td>40682095</td>\n",
       "      <td>-73957780</td>\n",
       "      <td>[Lot: 2,000 sqft, Multi Family, Built in 1901,...</td>\n",
       "      <td>[Deck, Fenced Yard, Finished basement, Firepla...</td>\n",
       "      <td>[Dishwasher, Dryer, Washer]</td>\n",
       "      <td>[Dining room, Family room, Library, Office, Wa...</td>\n",
       "      <td>[Exterior material: Other, Stories: 4, Structu...</td>\n",
       "      <td>[Vintage]</td>\n",
       "      <td>[Floor size: 4,500 sqft, Last remodel year: 19...</td>\n",
       "    </tr>\n",
       "    <tr>\n",
       "      <th>2</th>\n",
       "      <td>[755 Belmont Ave # 01, Brooklyn, NY 11208]</td>\n",
       "      <td>499000.0</td>\n",
       "      <td>NaN</td>\n",
       "      <td>3.0</td>\n",
       "      <td>4.0</td>\n",
       "      <td>1913.0</td>\n",
       "      <td>NaN</td>\n",
       "      <td>40672760</td>\n",
       "      <td>-73881840</td>\n",
       "      <td>[Baths: 2 full, 1 half, Single Family, 4 days ...</td>\n",
       "      <td>[]</td>\n",
       "      <td>[nan]</td>\n",
       "      <td>[nan]</td>\n",
       "      <td>[nan]</td>\n",
       "      <td>[nan]</td>\n",
       "      <td>[Last remodel year: 2017, Zillow Home ID: 2095...</td>\n",
       "    </tr>\n",
       "    <tr>\n",
       "      <th>3</th>\n",
       "      <td>[250 W 15th St APT I, New York, NY 10011]</td>\n",
       "      <td>850000.0</td>\n",
       "      <td>725.0</td>\n",
       "      <td>1.0</td>\n",
       "      <td>1.0</td>\n",
       "      <td>3351.0</td>\n",
       "      <td>901980.0</td>\n",
       "      <td>40739900</td>\n",
       "      <td>-74001400</td>\n",
       "      <td>[Cooperative, Built in 1930, 8 days on Zillow,...</td>\n",
       "      <td>[Elevator, Fireplace, Garden, Patio]</td>\n",
       "      <td>[Dishwasher]</td>\n",
       "      <td>[nan]</td>\n",
       "      <td>[Unit count: 59]</td>\n",
       "      <td>[bike_room, cats, co_purchase, dogs, gifts, li...</td>\n",
       "      <td>[Floor size: 725 sqft, Zillow Home ID: 2100550...</td>\n",
       "    </tr>\n",
       "    <tr>\n",
       "      <th>4</th>\n",
       "      <td>[2318 E 63rd St, Brooklyn, NY 11234]</td>\n",
       "      <td>1890000.0</td>\n",
       "      <td>4800.0</td>\n",
       "      <td>4.0</td>\n",
       "      <td>4.0</td>\n",
       "      <td>7451.0</td>\n",
       "      <td>1711219.0</td>\n",
       "      <td>40612465</td>\n",
       "      <td>-73909960</td>\n",
       "      <td>[nan]</td>\n",
       "      <td>[1600 sqft basement, Barbecue, Cable Ready, Co...</td>\n",
       "      <td>[Dishwasher, Dryer, Freezer, Garbage disposal,...</td>\n",
       "      <td>[Breakfast nook, Dining room, Family room, Lau...</td>\n",
       "      <td>[Exterior material: Brick, Metal, Other, Stone...</td>\n",
       "      <td>[nan]</td>\n",
       "      <td>[Floor size: 4,800 sqft, Heating: Gas, Last re...</td>\n",
       "    </tr>\n",
       "  </tbody>\n",
       "</table>\n",
       "</div>"
      ],
      "text/plain": [
       "                                      address      price  floor_size  \\\n",
       "0      [124 Mackenzie St, Brooklyn, NY 11235]   520000.0      2700.0   \n",
       "1          [36 Claver Pl, Brooklyn, NY 11238]  3195000.0      4500.0   \n",
       "2  [755 Belmont Ave # 01, Brooklyn, NY 11208]   499000.0         NaN   \n",
       "3   [250 W 15th St APT I, New York, NY 10011]   850000.0       725.0   \n",
       "4        [2318 E 63rd St, Brooklyn, NY 11234]  1890000.0      4800.0   \n",
       "\n",
       "   bathrooms  bedrooms  est_mortgage     zprice  latitude  longitude  \\\n",
       "0        4.0       3.0        1966.0  1519349.0  40580120  -73940420   \n",
       "1        6.0       6.0       12596.0  2649417.0  40682095  -73957780   \n",
       "2        3.0       4.0        1913.0        NaN  40672760  -73881840   \n",
       "3        1.0       1.0        3351.0   901980.0  40739900  -74001400   \n",
       "4        4.0       4.0        7451.0  1711219.0  40612465  -73909960   \n",
       "\n",
       "                                               FACTS  \\\n",
       "0                                              [nan]   \n",
       "1  [Lot: 2,000 sqft, Multi Family, Built in 1901,...   \n",
       "2  [Baths: 2 full, 1 half, Single Family, 4 days ...   \n",
       "3  [Cooperative, Built in 1930, 8 days on Zillow,...   \n",
       "4                                              [nan]   \n",
       "\n",
       "                                            FEATURES  \\\n",
       "0  [900 sqft basement, Attic, Deck, Finished base...   \n",
       "1  [Deck, Fenced Yard, Finished basement, Firepla...   \n",
       "2                                                 []   \n",
       "3               [Elevator, Fireplace, Garden, Patio]   \n",
       "4  [1600 sqft basement, Barbecue, Cable Ready, Co...   \n",
       "\n",
       "                                 APPLIANCES INCLUDED  \\\n",
       "0  [Dishwasher, Dryer, Microwave, Refrigerator, W...   \n",
       "1                        [Dishwasher, Dryer, Washer]   \n",
       "2                                              [nan]   \n",
       "3                                       [Dishwasher]   \n",
       "4  [Dishwasher, Dryer, Freezer, Garbage disposal,...   \n",
       "\n",
       "                                          ROOM TYPES  \\\n",
       "0  [Dining room, Family room, Laundry room, Maste...   \n",
       "1  [Dining room, Family room, Library, Office, Wa...   \n",
       "2                                              [nan]   \n",
       "3                                              [nan]   \n",
       "4  [Breakfast nook, Dining room, Family room, Lau...   \n",
       "\n",
       "                                        CONSTRUCTION  \\\n",
       "0  [Exterior material: Stucco, Roof type: Composi...   \n",
       "1  [Exterior material: Other, Stories: 4, Structu...   \n",
       "2                                              [nan]   \n",
       "3                                   [Unit count: 59]   \n",
       "4  [Exterior material: Brick, Metal, Other, Stone...   \n",
       "\n",
       "                                 ADDITIONAL FEATURES  \\\n",
       "0  [Jacuzzi / Whirlpool, Living room, Parking Typ...   \n",
       "1                                          [Vintage]   \n",
       "2                                              [nan]   \n",
       "3  [bike_room, cats, co_purchase, dogs, gifts, li...   \n",
       "4                                              [nan]   \n",
       "\n",
       "                                               OTHER  \n",
       "0  [Floor size: 2,700 sqft, Heating: Gas, Last re...  \n",
       "1  [Floor size: 4,500 sqft, Last remodel year: 19...  \n",
       "2  [Last remodel year: 2017, Zillow Home ID: 2095...  \n",
       "3  [Floor size: 725 sqft, Zillow Home ID: 2100550...  \n",
       "4  [Floor size: 4,800 sqft, Heating: Gas, Last re...  "
      ]
     },
     "execution_count": 714,
     "metadata": {},
     "output_type": "execute_result"
    }
   ],
   "source": [
    "df.head()"
   ]
  },
  {
   "cell_type": "code",
   "execution_count": 715,
   "metadata": {
    "collapsed": false
   },
   "outputs": [
    {
     "data": {
      "text/plain": [
       "pandas.core.series.Series"
      ]
     },
     "execution_count": 715,
     "metadata": {},
     "output_type": "execute_result"
    }
   ],
   "source": [
    "# lets devide the lat and long to 1000000 to get the right format\n",
    "type(df['latitude'])"
   ]
  },
  {
   "cell_type": "code",
   "execution_count": 716,
   "metadata": {
    "collapsed": false
   },
   "outputs": [],
   "source": [
    "df['latitude']=df['latitude']/1000000\n",
    "df['longitude'] = df['longitude']/1000000"
   ]
  },
  {
   "cell_type": "code",
   "execution_count": 717,
   "metadata": {
    "collapsed": false
   },
   "outputs": [],
   "source": [
    "# # brainstorming about address column\n",
    "# print df['address'][1]\n",
    "# \",\".join(df['address'][1])\n",
    "\n"
   ]
  },
  {
   "cell_type": "code",
   "execution_count": 718,
   "metadata": {
    "collapsed": false
   },
   "outputs": [],
   "source": [
    "# df.to_csv('zillo_clean1.csv',index=False)"
   ]
  },
  {
   "cell_type": "code",
   "execution_count": 719,
   "metadata": {
    "collapsed": true
   },
   "outputs": [],
   "source": [
    "df1 = df.copy()"
   ]
  },
  {
   "cell_type": "code",
   "execution_count": 720,
   "metadata": {
    "collapsed": false
   },
   "outputs": [
    {
     "data": {
      "text/html": [
       "<div>\n",
       "<table border=\"1\" class=\"dataframe\">\n",
       "  <thead>\n",
       "    <tr style=\"text-align: right;\">\n",
       "      <th></th>\n",
       "      <th>address</th>\n",
       "      <th>price</th>\n",
       "      <th>floor_size</th>\n",
       "      <th>bathrooms</th>\n",
       "      <th>bedrooms</th>\n",
       "      <th>est_mortgage</th>\n",
       "      <th>zprice</th>\n",
       "      <th>latitude</th>\n",
       "      <th>longitude</th>\n",
       "      <th>FACTS</th>\n",
       "      <th>FEATURES</th>\n",
       "      <th>APPLIANCES INCLUDED</th>\n",
       "      <th>ROOM TYPES</th>\n",
       "      <th>CONSTRUCTION</th>\n",
       "      <th>ADDITIONAL FEATURES</th>\n",
       "      <th>OTHER</th>\n",
       "    </tr>\n",
       "  </thead>\n",
       "  <tbody>\n",
       "    <tr>\n",
       "      <th>0</th>\n",
       "      <td>[124 Mackenzie St, Brooklyn, NY 11235]</td>\n",
       "      <td>520000.0</td>\n",
       "      <td>2700.0</td>\n",
       "      <td>4.0</td>\n",
       "      <td>3.0</td>\n",
       "      <td>1966.0</td>\n",
       "      <td>1519349.0</td>\n",
       "      <td>40.580120</td>\n",
       "      <td>-73.94042</td>\n",
       "      <td>[nan]</td>\n",
       "      <td>[900 sqft basement, Attic, Deck, Finished base...</td>\n",
       "      <td>[Dishwasher, Dryer, Microwave, Refrigerator, W...</td>\n",
       "      <td>[Dining room, Family room, Laundry room, Maste...</td>\n",
       "      <td>[Exterior material: Stucco, Roof type: Composi...</td>\n",
       "      <td>[Jacuzzi / Whirlpool, Living room, Parking Typ...</td>\n",
       "      <td>[Floor size: 2,700 sqft, Heating: Gas, Last re...</td>\n",
       "    </tr>\n",
       "    <tr>\n",
       "      <th>1</th>\n",
       "      <td>[36 Claver Pl, Brooklyn, NY 11238]</td>\n",
       "      <td>3195000.0</td>\n",
       "      <td>4500.0</td>\n",
       "      <td>6.0</td>\n",
       "      <td>6.0</td>\n",
       "      <td>12596.0</td>\n",
       "      <td>2649417.0</td>\n",
       "      <td>40.682095</td>\n",
       "      <td>-73.95778</td>\n",
       "      <td>[Lot: 2,000 sqft, Multi Family, Built in 1901,...</td>\n",
       "      <td>[Deck, Fenced Yard, Finished basement, Firepla...</td>\n",
       "      <td>[Dishwasher, Dryer, Washer]</td>\n",
       "      <td>[Dining room, Family room, Library, Office, Wa...</td>\n",
       "      <td>[Exterior material: Other, Stories: 4, Structu...</td>\n",
       "      <td>[Vintage]</td>\n",
       "      <td>[Floor size: 4,500 sqft, Last remodel year: 19...</td>\n",
       "    </tr>\n",
       "  </tbody>\n",
       "</table>\n",
       "</div>"
      ],
      "text/plain": [
       "                                  address      price  floor_size  bathrooms  \\\n",
       "0  [124 Mackenzie St, Brooklyn, NY 11235]   520000.0      2700.0        4.0   \n",
       "1      [36 Claver Pl, Brooklyn, NY 11238]  3195000.0      4500.0        6.0   \n",
       "\n",
       "   bedrooms  est_mortgage     zprice   latitude  longitude  \\\n",
       "0       3.0        1966.0  1519349.0  40.580120  -73.94042   \n",
       "1       6.0       12596.0  2649417.0  40.682095  -73.95778   \n",
       "\n",
       "                                               FACTS  \\\n",
       "0                                              [nan]   \n",
       "1  [Lot: 2,000 sqft, Multi Family, Built in 1901,...   \n",
       "\n",
       "                                            FEATURES  \\\n",
       "0  [900 sqft basement, Attic, Deck, Finished base...   \n",
       "1  [Deck, Fenced Yard, Finished basement, Firepla...   \n",
       "\n",
       "                                 APPLIANCES INCLUDED  \\\n",
       "0  [Dishwasher, Dryer, Microwave, Refrigerator, W...   \n",
       "1                        [Dishwasher, Dryer, Washer]   \n",
       "\n",
       "                                          ROOM TYPES  \\\n",
       "0  [Dining room, Family room, Laundry room, Maste...   \n",
       "1  [Dining room, Family room, Library, Office, Wa...   \n",
       "\n",
       "                                        CONSTRUCTION  \\\n",
       "0  [Exterior material: Stucco, Roof type: Composi...   \n",
       "1  [Exterior material: Other, Stories: 4, Structu...   \n",
       "\n",
       "                                 ADDITIONAL FEATURES  \\\n",
       "0  [Jacuzzi / Whirlpool, Living room, Parking Typ...   \n",
       "1                                          [Vintage]   \n",
       "\n",
       "                                               OTHER  \n",
       "0  [Floor size: 2,700 sqft, Heating: Gas, Last re...  \n",
       "1  [Floor size: 4,500 sqft, Last remodel year: 19...  "
      ]
     },
     "execution_count": 720,
     "metadata": {},
     "output_type": "execute_result"
    }
   ],
   "source": [
    "df1.head(2)"
   ]
  },
  {
   "cell_type": "code",
   "execution_count": 721,
   "metadata": {
    "collapsed": true
   },
   "outputs": [],
   "source": [
    "# lets try to split the address column into street, barough and zim (state will be done later)"
   ]
  },
  {
   "cell_type": "code",
   "execution_count": 722,
   "metadata": {
    "collapsed": false
   },
   "outputs": [
    {
     "data": {
      "text/plain": [
       "list"
      ]
     },
     "execution_count": 722,
     "metadata": {},
     "output_type": "execute_result"
    }
   ],
   "source": [
    "type(df['address'][0])"
   ]
  },
  {
   "cell_type": "code",
   "execution_count": 723,
   "metadata": {
    "collapsed": true
   },
   "outputs": [],
   "source": [
    "# so we have a list of elements in each observation of column 'address'.\n",
    "# lets get seporate columns for each of the elements in the list"
   ]
  },
  {
   "cell_type": "code",
   "execution_count": 724,
   "metadata": {
    "collapsed": false
   },
   "outputs": [
    {
     "data": {
      "text/html": [
       "<div>\n",
       "<table border=\"1\" class=\"dataframe\">\n",
       "  <thead>\n",
       "    <tr style=\"text-align: right;\">\n",
       "      <th></th>\n",
       "      <th>0</th>\n",
       "      <th>1</th>\n",
       "      <th>2</th>\n",
       "    </tr>\n",
       "  </thead>\n",
       "  <tbody>\n",
       "    <tr>\n",
       "      <th>0</th>\n",
       "      <td>124 Mackenzie St</td>\n",
       "      <td>Brooklyn</td>\n",
       "      <td>NY 11235</td>\n",
       "    </tr>\n",
       "    <tr>\n",
       "      <th>1</th>\n",
       "      <td>36 Claver Pl</td>\n",
       "      <td>Brooklyn</td>\n",
       "      <td>NY 11238</td>\n",
       "    </tr>\n",
       "    <tr>\n",
       "      <th>2</th>\n",
       "      <td>755 Belmont Ave # 01</td>\n",
       "      <td>Brooklyn</td>\n",
       "      <td>NY 11208</td>\n",
       "    </tr>\n",
       "    <tr>\n",
       "      <th>3</th>\n",
       "      <td>250 W 15th St APT I</td>\n",
       "      <td>New York</td>\n",
       "      <td>NY 10011</td>\n",
       "    </tr>\n",
       "    <tr>\n",
       "      <th>4</th>\n",
       "      <td>2318 E 63rd St</td>\n",
       "      <td>Brooklyn</td>\n",
       "      <td>NY 11234</td>\n",
       "    </tr>\n",
       "  </tbody>\n",
       "</table>\n",
       "</div>"
      ],
      "text/plain": [
       "                      0         1         2\n",
       "0      124 Mackenzie St  Brooklyn  NY 11235\n",
       "1          36 Claver Pl  Brooklyn  NY 11238\n",
       "2  755 Belmont Ave # 01  Brooklyn  NY 11208\n",
       "3   250 W 15th St APT I  New York  NY 10011\n",
       "4        2318 E 63rd St  Brooklyn  NY 11234"
      ]
     },
     "execution_count": 724,
     "metadata": {},
     "output_type": "execute_result"
    }
   ],
   "source": [
    "df1['address'].apply(pd.Series).head()\n",
    "# this worked well"
   ]
  },
  {
   "cell_type": "code",
   "execution_count": 725,
   "metadata": {
    "collapsed": true
   },
   "outputs": [],
   "source": [
    "#lets save this new dataframe and then append it to the old on\n",
    "# but first lets get the column names right"
   ]
  },
  {
   "cell_type": "code",
   "execution_count": 726,
   "metadata": {
    "collapsed": true
   },
   "outputs": [],
   "source": [
    "df_address = df['address'].apply(pd.Series)"
   ]
  },
  {
   "cell_type": "code",
   "execution_count": 727,
   "metadata": {
    "collapsed": false
   },
   "outputs": [
    {
     "data": {
      "text/plain": [
       "(135, 16)"
      ]
     },
     "execution_count": 727,
     "metadata": {},
     "output_type": "execute_result"
    }
   ],
   "source": [
    "df.shape"
   ]
  },
  {
   "cell_type": "code",
   "execution_count": 728,
   "metadata": {
    "collapsed": false
   },
   "outputs": [],
   "source": [
    "df_address.rename(columns = {0:'street',1:'barough',2:'state_zip'},inplace= True)\n"
   ]
  },
  {
   "cell_type": "code",
   "execution_count": 729,
   "metadata": {
    "collapsed": false
   },
   "outputs": [
    {
     "data": {
      "text/html": [
       "<div>\n",
       "<table border=\"1\" class=\"dataframe\">\n",
       "  <thead>\n",
       "    <tr style=\"text-align: right;\">\n",
       "      <th></th>\n",
       "      <th>street</th>\n",
       "      <th>barough</th>\n",
       "      <th>state_zip</th>\n",
       "    </tr>\n",
       "  </thead>\n",
       "  <tbody>\n",
       "    <tr>\n",
       "      <th>0</th>\n",
       "      <td>124 Mackenzie St</td>\n",
       "      <td>Brooklyn</td>\n",
       "      <td>NY 11235</td>\n",
       "    </tr>\n",
       "    <tr>\n",
       "      <th>1</th>\n",
       "      <td>36 Claver Pl</td>\n",
       "      <td>Brooklyn</td>\n",
       "      <td>NY 11238</td>\n",
       "    </tr>\n",
       "    <tr>\n",
       "      <th>2</th>\n",
       "      <td>755 Belmont Ave # 01</td>\n",
       "      <td>Brooklyn</td>\n",
       "      <td>NY 11208</td>\n",
       "    </tr>\n",
       "    <tr>\n",
       "      <th>3</th>\n",
       "      <td>250 W 15th St APT I</td>\n",
       "      <td>New York</td>\n",
       "      <td>NY 10011</td>\n",
       "    </tr>\n",
       "    <tr>\n",
       "      <th>4</th>\n",
       "      <td>2318 E 63rd St</td>\n",
       "      <td>Brooklyn</td>\n",
       "      <td>NY 11234</td>\n",
       "    </tr>\n",
       "  </tbody>\n",
       "</table>\n",
       "</div>"
      ],
      "text/plain": [
       "                 street   barough state_zip\n",
       "0      124 Mackenzie St  Brooklyn  NY 11235\n",
       "1          36 Claver Pl  Brooklyn  NY 11238\n",
       "2  755 Belmont Ave # 01  Brooklyn  NY 11208\n",
       "3   250 W 15th St APT I  New York  NY 10011\n",
       "4        2318 E 63rd St  Brooklyn  NY 11234"
      ]
     },
     "execution_count": 729,
     "metadata": {},
     "output_type": "execute_result"
    }
   ],
   "source": [
    "df_address.head()"
   ]
  },
  {
   "cell_type": "code",
   "execution_count": 730,
   "metadata": {
    "collapsed": false
   },
   "outputs": [],
   "source": [
    "# now we split the state_zip\n",
    "df_zip_state = df_address['state_zip'].apply(lambda x: x.split(' '))\\\n",
    "                        .apply(pd.Series)\\\n",
    "                        .rename(columns = {0:'state',1:'zip'})\n"
   ]
  },
  {
   "cell_type": "code",
   "execution_count": 731,
   "metadata": {
    "collapsed": false
   },
   "outputs": [
    {
     "data": {
      "text/html": [
       "<div>\n",
       "<table border=\"1\" class=\"dataframe\">\n",
       "  <thead>\n",
       "    <tr style=\"text-align: right;\">\n",
       "      <th></th>\n",
       "      <th>state</th>\n",
       "      <th>zip</th>\n",
       "    </tr>\n",
       "  </thead>\n",
       "  <tbody>\n",
       "    <tr>\n",
       "      <th>0</th>\n",
       "      <td>NY</td>\n",
       "      <td>11235</td>\n",
       "    </tr>\n",
       "    <tr>\n",
       "      <th>1</th>\n",
       "      <td>NY</td>\n",
       "      <td>11238</td>\n",
       "    </tr>\n",
       "    <tr>\n",
       "      <th>2</th>\n",
       "      <td>NY</td>\n",
       "      <td>11208</td>\n",
       "    </tr>\n",
       "    <tr>\n",
       "      <th>3</th>\n",
       "      <td>NY</td>\n",
       "      <td>10011</td>\n",
       "    </tr>\n",
       "    <tr>\n",
       "      <th>4</th>\n",
       "      <td>NY</td>\n",
       "      <td>11234</td>\n",
       "    </tr>\n",
       "  </tbody>\n",
       "</table>\n",
       "</div>"
      ],
      "text/plain": [
       "  state    zip\n",
       "0    NY  11235\n",
       "1    NY  11238\n",
       "2    NY  11208\n",
       "3    NY  10011\n",
       "4    NY  11234"
      ]
     },
     "execution_count": 731,
     "metadata": {},
     "output_type": "execute_result"
    }
   ],
   "source": [
    "df_zip_state.head()"
   ]
  },
  {
   "cell_type": "code",
   "execution_count": 732,
   "metadata": {
    "collapsed": false
   },
   "outputs": [],
   "source": [
    "# this is the concatinated final form of address split\n",
    "df_final = pd.concat([df_address.iloc[:,0:2],df_zip_state],axis =1)"
   ]
  },
  {
   "cell_type": "code",
   "execution_count": 733,
   "metadata": {
    "collapsed": false
   },
   "outputs": [],
   "source": [
    "df1 = pd.concat([df1,df_final],axis = 1)"
   ]
  },
  {
   "cell_type": "code",
   "execution_count": 734,
   "metadata": {
    "collapsed": false
   },
   "outputs": [
    {
     "data": {
      "text/plain": [
       "'124 Mackenzie St, Brooklyn, NY 11235'"
      ]
     },
     "execution_count": 734,
     "metadata": {},
     "output_type": "execute_result"
    }
   ],
   "source": [
    "# turning the 'address' to string from list\n",
    "\n",
    "\n",
    "df['address'] = df[['address']].applymap(lambda x: \", \".join(x))\n",
    "df['address'][0]"
   ]
  },
  {
   "cell_type": "code",
   "execution_count": 735,
   "metadata": {
    "collapsed": false
   },
   "outputs": [
    {
     "data": {
      "text/html": [
       "<div>\n",
       "<table border=\"1\" class=\"dataframe\">\n",
       "  <thead>\n",
       "    <tr style=\"text-align: right;\">\n",
       "      <th></th>\n",
       "      <th>FEATURES</th>\n",
       "    </tr>\n",
       "  </thead>\n",
       "  <tbody>\n",
       "    <tr>\n",
       "      <th>0</th>\n",
       "      <td>900 sqft basement, Attic, Deck, Finished basem...</td>\n",
       "    </tr>\n",
       "    <tr>\n",
       "      <th>1</th>\n",
       "      <td>Deck, Fenced Yard, Finished basement, Fireplac...</td>\n",
       "    </tr>\n",
       "    <tr>\n",
       "      <th>2</th>\n",
       "      <td></td>\n",
       "    </tr>\n",
       "    <tr>\n",
       "      <th>3</th>\n",
       "      <td>Elevator, Fireplace, Garden, Patio</td>\n",
       "    </tr>\n",
       "    <tr>\n",
       "      <th>4</th>\n",
       "      <td>1600 sqft basement, Barbecue, Cable Ready, Con...</td>\n",
       "    </tr>\n",
       "  </tbody>\n",
       "</table>\n",
       "</div>"
      ],
      "text/plain": [
       "                                            FEATURES\n",
       "0  900 sqft basement, Attic, Deck, Finished basem...\n",
       "1  Deck, Fenced Yard, Finished basement, Fireplac...\n",
       "2                                                   \n",
       "3                 Elevator, Fireplace, Garden, Patio\n",
       "4  1600 sqft basement, Barbecue, Cable Ready, Con..."
      ]
     },
     "execution_count": 735,
     "metadata": {},
     "output_type": "execute_result"
    }
   ],
   "source": [
    "df[['FEATURES']].applymap(lambda x: \", \".join(x)).head()"
   ]
  },
  {
   "cell_type": "code",
   "execution_count": 736,
   "metadata": {
    "collapsed": false
   },
   "outputs": [
    {
     "data": {
      "text/html": [
       "<div>\n",
       "<table border=\"1\" class=\"dataframe\">\n",
       "  <thead>\n",
       "    <tr style=\"text-align: right;\">\n",
       "      <th></th>\n",
       "      <th>ADDITIONAL FEATURES</th>\n",
       "    </tr>\n",
       "  </thead>\n",
       "  <tbody>\n",
       "    <tr>\n",
       "      <th>0</th>\n",
       "      <td>Jacuzzi / Whirlpool, Living room, Parking Type...</td>\n",
       "    </tr>\n",
       "    <tr>\n",
       "      <th>1</th>\n",
       "      <td>Vintage</td>\n",
       "    </tr>\n",
       "    <tr>\n",
       "      <th>2</th>\n",
       "      <td>nan</td>\n",
       "    </tr>\n",
       "    <tr>\n",
       "      <th>3</th>\n",
       "      <td>bike_room, cats, co_purchase, dogs, gifts, liv...</td>\n",
       "    </tr>\n",
       "    <tr>\n",
       "      <th>4</th>\n",
       "      <td>nan</td>\n",
       "    </tr>\n",
       "  </tbody>\n",
       "</table>\n",
       "</div>"
      ],
      "text/plain": [
       "                                 ADDITIONAL FEATURES\n",
       "0  Jacuzzi / Whirlpool, Living room, Parking Type...\n",
       "1                                            Vintage\n",
       "2                                                nan\n",
       "3  bike_room, cats, co_purchase, dogs, gifts, liv...\n",
       "4                                                nan"
      ]
     },
     "execution_count": 736,
     "metadata": {},
     "output_type": "execute_result"
    }
   ],
   "source": [
    "df[['ADDITIONAL FEATURES']].applymap(lambda x: \", \".join(x)).head()"
   ]
  },
  {
   "cell_type": "code",
   "execution_count": 737,
   "metadata": {
    "collapsed": false
   },
   "outputs": [
    {
     "name": "stdout",
     "output_type": "stream",
     "text": [
      "['FEATURES', 'ROOM TYPES', 'ADDITIONAL FEATURES', 'APPLIANCES INCLUDED', 'FACTS', 'OTHER', 'CONSTRUCTION']\n"
     ]
    }
   ],
   "source": [
    "# from the above two experiments, we move forward and get it done!\n",
    "print col_to_clean\n",
    "df[col_to_clean] = df[col_to_clean].applymap(lambda x: \", \".join(x))"
   ]
  },
  {
   "cell_type": "code",
   "execution_count": 738,
   "metadata": {
    "collapsed": false
   },
   "outputs": [
    {
     "data": {
      "text/html": [
       "<div>\n",
       "<table border=\"1\" class=\"dataframe\">\n",
       "  <thead>\n",
       "    <tr style=\"text-align: right;\">\n",
       "      <th></th>\n",
       "      <th>address</th>\n",
       "      <th>price</th>\n",
       "      <th>floor_size</th>\n",
       "      <th>bathrooms</th>\n",
       "      <th>bedrooms</th>\n",
       "      <th>est_mortgage</th>\n",
       "      <th>zprice</th>\n",
       "      <th>latitude</th>\n",
       "      <th>longitude</th>\n",
       "      <th>FACTS</th>\n",
       "      <th>FEATURES</th>\n",
       "      <th>APPLIANCES INCLUDED</th>\n",
       "      <th>ROOM TYPES</th>\n",
       "      <th>CONSTRUCTION</th>\n",
       "      <th>ADDITIONAL FEATURES</th>\n",
       "      <th>OTHER</th>\n",
       "    </tr>\n",
       "  </thead>\n",
       "  <tbody>\n",
       "    <tr>\n",
       "      <th>0</th>\n",
       "      <td>124 Mackenzie St, Brooklyn, NY 11235</td>\n",
       "      <td>520000.0</td>\n",
       "      <td>2700.0</td>\n",
       "      <td>4.0</td>\n",
       "      <td>3.0</td>\n",
       "      <td>1966.0</td>\n",
       "      <td>1519349.0</td>\n",
       "      <td>40.580120</td>\n",
       "      <td>-73.940420</td>\n",
       "      <td>nan</td>\n",
       "      <td>900 sqft basement, Attic, Deck, Finished basem...</td>\n",
       "      <td>Dishwasher, Dryer, Microwave, Refrigerator, Wa...</td>\n",
       "      <td>Dining room, Family room, Laundry room, Master...</td>\n",
       "      <td>Exterior material: Stucco, Roof type: Composit...</td>\n",
       "      <td>Jacuzzi / Whirlpool, Living room, Parking Type...</td>\n",
       "      <td>Floor size: 2,700 sqft, Heating: Gas, Last rem...</td>\n",
       "    </tr>\n",
       "    <tr>\n",
       "      <th>1</th>\n",
       "      <td>36 Claver Pl, Brooklyn, NY 11238</td>\n",
       "      <td>3195000.0</td>\n",
       "      <td>4500.0</td>\n",
       "      <td>6.0</td>\n",
       "      <td>6.0</td>\n",
       "      <td>12596.0</td>\n",
       "      <td>2649417.0</td>\n",
       "      <td>40.682095</td>\n",
       "      <td>-73.957780</td>\n",
       "      <td>Lot: 2,000 sqft, Multi Family, Built in 1901, ...</td>\n",
       "      <td>Deck, Fenced Yard, Finished basement, Fireplac...</td>\n",
       "      <td>Dishwasher, Dryer, Washer</td>\n",
       "      <td>Dining room, Family room, Library, Office, Wal...</td>\n",
       "      <td>Exterior material: Other, Stories: 4, Structur...</td>\n",
       "      <td>Vintage</td>\n",
       "      <td>Floor size: 4,500 sqft, Last remodel year: 190...</td>\n",
       "    </tr>\n",
       "    <tr>\n",
       "      <th>2</th>\n",
       "      <td>755 Belmont Ave # 01, Brooklyn, NY 11208</td>\n",
       "      <td>499000.0</td>\n",
       "      <td>NaN</td>\n",
       "      <td>3.0</td>\n",
       "      <td>4.0</td>\n",
       "      <td>1913.0</td>\n",
       "      <td>NaN</td>\n",
       "      <td>40.672760</td>\n",
       "      <td>-73.881840</td>\n",
       "      <td>Baths: 2 full, 1 half, Single Family, 4 days o...</td>\n",
       "      <td></td>\n",
       "      <td>nan</td>\n",
       "      <td>nan</td>\n",
       "      <td>nan</td>\n",
       "      <td>nan</td>\n",
       "      <td>Last remodel year: 2017, Zillow Home ID: 20953...</td>\n",
       "    </tr>\n",
       "    <tr>\n",
       "      <th>3</th>\n",
       "      <td>250 W 15th St APT I, New York, NY 10011</td>\n",
       "      <td>850000.0</td>\n",
       "      <td>725.0</td>\n",
       "      <td>1.0</td>\n",
       "      <td>1.0</td>\n",
       "      <td>3351.0</td>\n",
       "      <td>901980.0</td>\n",
       "      <td>40.739900</td>\n",
       "      <td>-74.001400</td>\n",
       "      <td>Cooperative, Built in 1930, 8 days on Zillow, ...</td>\n",
       "      <td>Elevator, Fireplace, Garden, Patio</td>\n",
       "      <td>Dishwasher</td>\n",
       "      <td>nan</td>\n",
       "      <td>Unit count: 59</td>\n",
       "      <td>bike_room, cats, co_purchase, dogs, gifts, liv...</td>\n",
       "      <td>Floor size: 725 sqft, Zillow Home ID: 2100550953</td>\n",
       "    </tr>\n",
       "    <tr>\n",
       "      <th>4</th>\n",
       "      <td>2318 E 63rd St, Brooklyn, NY 11234</td>\n",
       "      <td>1890000.0</td>\n",
       "      <td>4800.0</td>\n",
       "      <td>4.0</td>\n",
       "      <td>4.0</td>\n",
       "      <td>7451.0</td>\n",
       "      <td>1711219.0</td>\n",
       "      <td>40.612465</td>\n",
       "      <td>-73.909960</td>\n",
       "      <td>nan</td>\n",
       "      <td>1600 sqft basement, Barbecue, Cable Ready, Con...</td>\n",
       "      <td>Dishwasher, Dryer, Freezer, Garbage disposal, ...</td>\n",
       "      <td>Breakfast nook, Dining room, Family room, Laun...</td>\n",
       "      <td>Exterior material: Brick, Metal, Other, Stone,...</td>\n",
       "      <td>nan</td>\n",
       "      <td>Floor size: 4,800 sqft, Heating: Gas, Last rem...</td>\n",
       "    </tr>\n",
       "    <tr>\n",
       "      <th>5</th>\n",
       "      <td>445 W 240th St APT 2K, Bronx, NY 10463</td>\n",
       "      <td>319000.0</td>\n",
       "      <td>850.0</td>\n",
       "      <td>1.0</td>\n",
       "      <td>1.0</td>\n",
       "      <td>1223.0</td>\n",
       "      <td>292405.0</td>\n",
       "      <td>40.888595</td>\n",
       "      <td>-73.904479</td>\n",
       "      <td>Condo, Built in 1949, 7 days on Zillow, Views ...</td>\n",
       "      <td>Elevator</td>\n",
       "      <td>nan</td>\n",
       "      <td>nan</td>\n",
       "      <td>Unit count: 78</td>\n",
       "      <td>Amenities: Close to Bus, Close to Railroad, Cl...</td>\n",
       "      <td>Floor size: 850 sqft, Parcel #: 057801015, Zil...</td>\n",
       "    </tr>\n",
       "    <tr>\n",
       "      <th>6</th>\n",
       "      <td>5915 Madison St, Ridgewood, NY 11385</td>\n",
       "      <td>1299000.0</td>\n",
       "      <td>NaN</td>\n",
       "      <td>2.0</td>\n",
       "      <td>5.0</td>\n",
       "      <td>5121.0</td>\n",
       "      <td>1077154.0</td>\n",
       "      <td>40.706100</td>\n",
       "      <td>-73.901360</td>\n",
       "      <td>Lot: 2,500 sqft, Multi Family, Built in 1920, ...</td>\n",
       "      <td></td>\n",
       "      <td>Range / Oven, Refrigerator</td>\n",
       "      <td>nan</td>\n",
       "      <td>Room count: 11, Unit count: 2</td>\n",
       "      <td>nan</td>\n",
       "      <td>Heating: Gas, Zillow Home ID: 2097548369</td>\n",
       "    </tr>\n",
       "    <tr>\n",
       "      <th>7</th>\n",
       "      <td>8303 10th Ave, Brooklyn, NY 11228</td>\n",
       "      <td>999000.0</td>\n",
       "      <td>1535.0</td>\n",
       "      <td>1.0</td>\n",
       "      <td>3.0</td>\n",
       "      <td>3939.0</td>\n",
       "      <td>929313.0</td>\n",
       "      <td>40.619505</td>\n",
       "      <td>-74.018580</td>\n",
       "      <td>nan</td>\n",
       "      <td>Finished basement, Flooring: Hardwood, Parking...</td>\n",
       "      <td>Range / Oven, Refrigerator</td>\n",
       "      <td>Dining room</td>\n",
       "      <td>Exterior material: Brick, Stucco, Room count: ...</td>\n",
       "      <td>nan</td>\n",
       "      <td>Floor size: 1,535 sqft, Last remodel year: 189...</td>\n",
       "    </tr>\n",
       "    <tr>\n",
       "      <th>8</th>\n",
       "      <td>13018 148th St # 1, Jamaica, NY 11436</td>\n",
       "      <td>499000.0</td>\n",
       "      <td>NaN</td>\n",
       "      <td>3.0</td>\n",
       "      <td>3.0</td>\n",
       "      <td>1913.0</td>\n",
       "      <td>477226.0</td>\n",
       "      <td>40.668300</td>\n",
       "      <td>-73.790400</td>\n",
       "      <td>nan</td>\n",
       "      <td></td>\n",
       "      <td>nan</td>\n",
       "      <td>nan</td>\n",
       "      <td>nan</td>\n",
       "      <td>nan</td>\n",
       "      <td>Last remodel year: 2017, Zillow Home ID: 20954...</td>\n",
       "    </tr>\n",
       "    <tr>\n",
       "      <th>9</th>\n",
       "      <td>12008 Springfield Blvd # 01, Cambria Heights, ...</td>\n",
       "      <td>469000.0</td>\n",
       "      <td>NaN</td>\n",
       "      <td>3.0</td>\n",
       "      <td>3.0</td>\n",
       "      <td>1798.0</td>\n",
       "      <td>NaN</td>\n",
       "      <td>40.690510</td>\n",
       "      <td>-73.746770</td>\n",
       "      <td>nan</td>\n",
       "      <td></td>\n",
       "      <td>nan</td>\n",
       "      <td>nan</td>\n",
       "      <td>nan</td>\n",
       "      <td>nan</td>\n",
       "      <td>Last remodel year: 2017, Zillow Home ID: 20953...</td>\n",
       "    </tr>\n",
       "  </tbody>\n",
       "</table>\n",
       "</div>"
      ],
      "text/plain": [
       "                                             address      price  floor_size  \\\n",
       "0               124 Mackenzie St, Brooklyn, NY 11235   520000.0      2700.0   \n",
       "1                   36 Claver Pl, Brooklyn, NY 11238  3195000.0      4500.0   \n",
       "2           755 Belmont Ave # 01, Brooklyn, NY 11208   499000.0         NaN   \n",
       "3            250 W 15th St APT I, New York, NY 10011   850000.0       725.0   \n",
       "4                 2318 E 63rd St, Brooklyn, NY 11234  1890000.0      4800.0   \n",
       "5             445 W 240th St APT 2K, Bronx, NY 10463   319000.0       850.0   \n",
       "6               5915 Madison St, Ridgewood, NY 11385  1299000.0         NaN   \n",
       "7                  8303 10th Ave, Brooklyn, NY 11228   999000.0      1535.0   \n",
       "8              13018 148th St # 1, Jamaica, NY 11436   499000.0         NaN   \n",
       "9  12008 Springfield Blvd # 01, Cambria Heights, ...   469000.0         NaN   \n",
       "\n",
       "   bathrooms  bedrooms  est_mortgage     zprice   latitude  longitude  \\\n",
       "0        4.0       3.0        1966.0  1519349.0  40.580120 -73.940420   \n",
       "1        6.0       6.0       12596.0  2649417.0  40.682095 -73.957780   \n",
       "2        3.0       4.0        1913.0        NaN  40.672760 -73.881840   \n",
       "3        1.0       1.0        3351.0   901980.0  40.739900 -74.001400   \n",
       "4        4.0       4.0        7451.0  1711219.0  40.612465 -73.909960   \n",
       "5        1.0       1.0        1223.0   292405.0  40.888595 -73.904479   \n",
       "6        2.0       5.0        5121.0  1077154.0  40.706100 -73.901360   \n",
       "7        1.0       3.0        3939.0   929313.0  40.619505 -74.018580   \n",
       "8        3.0       3.0        1913.0   477226.0  40.668300 -73.790400   \n",
       "9        3.0       3.0        1798.0        NaN  40.690510 -73.746770   \n",
       "\n",
       "                                               FACTS  \\\n",
       "0                                                nan   \n",
       "1  Lot: 2,000 sqft, Multi Family, Built in 1901, ...   \n",
       "2  Baths: 2 full, 1 half, Single Family, 4 days o...   \n",
       "3  Cooperative, Built in 1930, 8 days on Zillow, ...   \n",
       "4                                                nan   \n",
       "5  Condo, Built in 1949, 7 days on Zillow, Views ...   \n",
       "6  Lot: 2,500 sqft, Multi Family, Built in 1920, ...   \n",
       "7                                                nan   \n",
       "8                                                nan   \n",
       "9                                                nan   \n",
       "\n",
       "                                            FEATURES  \\\n",
       "0  900 sqft basement, Attic, Deck, Finished basem...   \n",
       "1  Deck, Fenced Yard, Finished basement, Fireplac...   \n",
       "2                                                      \n",
       "3                 Elevator, Fireplace, Garden, Patio   \n",
       "4  1600 sqft basement, Barbecue, Cable Ready, Con...   \n",
       "5                                           Elevator   \n",
       "6                                                      \n",
       "7  Finished basement, Flooring: Hardwood, Parking...   \n",
       "8                                                      \n",
       "9                                                      \n",
       "\n",
       "                                 APPLIANCES INCLUDED  \\\n",
       "0  Dishwasher, Dryer, Microwave, Refrigerator, Wa...   \n",
       "1                          Dishwasher, Dryer, Washer   \n",
       "2                                                nan   \n",
       "3                                         Dishwasher   \n",
       "4  Dishwasher, Dryer, Freezer, Garbage disposal, ...   \n",
       "5                                                nan   \n",
       "6                         Range / Oven, Refrigerator   \n",
       "7                         Range / Oven, Refrigerator   \n",
       "8                                                nan   \n",
       "9                                                nan   \n",
       "\n",
       "                                          ROOM TYPES  \\\n",
       "0  Dining room, Family room, Laundry room, Master...   \n",
       "1  Dining room, Family room, Library, Office, Wal...   \n",
       "2                                                nan   \n",
       "3                                                nan   \n",
       "4  Breakfast nook, Dining room, Family room, Laun...   \n",
       "5                                                nan   \n",
       "6                                                nan   \n",
       "7                                        Dining room   \n",
       "8                                                nan   \n",
       "9                                                nan   \n",
       "\n",
       "                                        CONSTRUCTION  \\\n",
       "0  Exterior material: Stucco, Roof type: Composit...   \n",
       "1  Exterior material: Other, Stories: 4, Structur...   \n",
       "2                                                nan   \n",
       "3                                     Unit count: 59   \n",
       "4  Exterior material: Brick, Metal, Other, Stone,...   \n",
       "5                                     Unit count: 78   \n",
       "6                      Room count: 11, Unit count: 2   \n",
       "7  Exterior material: Brick, Stucco, Room count: ...   \n",
       "8                                                nan   \n",
       "9                                                nan   \n",
       "\n",
       "                                 ADDITIONAL FEATURES  \\\n",
       "0  Jacuzzi / Whirlpool, Living room, Parking Type...   \n",
       "1                                            Vintage   \n",
       "2                                                nan   \n",
       "3  bike_room, cats, co_purchase, dogs, gifts, liv...   \n",
       "4                                                nan   \n",
       "5  Amenities: Close to Bus, Close to Railroad, Cl...   \n",
       "6                                                nan   \n",
       "7                                                nan   \n",
       "8                                                nan   \n",
       "9                                                nan   \n",
       "\n",
       "                                               OTHER  \n",
       "0  Floor size: 2,700 sqft, Heating: Gas, Last rem...  \n",
       "1  Floor size: 4,500 sqft, Last remodel year: 190...  \n",
       "2  Last remodel year: 2017, Zillow Home ID: 20953...  \n",
       "3   Floor size: 725 sqft, Zillow Home ID: 2100550953  \n",
       "4  Floor size: 4,800 sqft, Heating: Gas, Last rem...  \n",
       "5  Floor size: 850 sqft, Parcel #: 057801015, Zil...  \n",
       "6           Heating: Gas, Zillow Home ID: 2097548369  \n",
       "7  Floor size: 1,535 sqft, Last remodel year: 189...  \n",
       "8  Last remodel year: 2017, Zillow Home ID: 20954...  \n",
       "9  Last remodel year: 2017, Zillow Home ID: 20953...  "
      ]
     },
     "execution_count": 738,
     "metadata": {},
     "output_type": "execute_result"
    }
   ],
   "source": [
    "df.head(10)"
   ]
  },
  {
   "cell_type": "code",
   "execution_count": 740,
   "metadata": {
    "collapsed": false
   },
   "outputs": [],
   "source": [
    "# finally, im going to replace all the empty string of empty cells and cells that have 'nan' string to NA\n"
   ]
  },
  {
   "cell_type": "code",
   "execution_count": 741,
   "metadata": {
    "collapsed": false
   },
   "outputs": [],
   "source": [
    "df[df.applymap(lambda x: x==\"nan\")]=np.nan"
   ]
  },
  {
   "cell_type": "code",
   "execution_count": 742,
   "metadata": {
    "collapsed": false
   },
   "outputs": [
    {
     "data": {
      "text/html": [
       "<div>\n",
       "<table border=\"1\" class=\"dataframe\">\n",
       "  <thead>\n",
       "    <tr style=\"text-align: right;\">\n",
       "      <th></th>\n",
       "      <th>address</th>\n",
       "      <th>price</th>\n",
       "      <th>floor_size</th>\n",
       "      <th>bathrooms</th>\n",
       "      <th>bedrooms</th>\n",
       "      <th>est_mortgage</th>\n",
       "      <th>zprice</th>\n",
       "      <th>latitude</th>\n",
       "      <th>longitude</th>\n",
       "      <th>FACTS</th>\n",
       "      <th>FEATURES</th>\n",
       "      <th>APPLIANCES INCLUDED</th>\n",
       "      <th>ROOM TYPES</th>\n",
       "      <th>CONSTRUCTION</th>\n",
       "      <th>ADDITIONAL FEATURES</th>\n",
       "      <th>OTHER</th>\n",
       "    </tr>\n",
       "  </thead>\n",
       "  <tbody>\n",
       "  </tbody>\n",
       "</table>\n",
       "</div>"
      ],
      "text/plain": [
       "Empty DataFrame\n",
       "Columns: [address, price, floor_size, bathrooms, bedrooms, est_mortgage, zprice, latitude, longitude, FACTS, FEATURES, APPLIANCES INCLUDED, ROOM TYPES, CONSTRUCTION, ADDITIONAL FEATURES, OTHER]\n",
       "Index: []"
      ]
     },
     "execution_count": 742,
     "metadata": {},
     "output_type": "execute_result"
    }
   ],
   "source": [
    "df[df['ADDITIONAL FEATURES']=='']"
   ]
  },
  {
   "cell_type": "code",
   "execution_count": 743,
   "metadata": {
    "collapsed": false
   },
   "outputs": [
    {
     "data": {
      "text/html": [
       "<div>\n",
       "<table border=\"1\" class=\"dataframe\">\n",
       "  <thead>\n",
       "    <tr style=\"text-align: right;\">\n",
       "      <th></th>\n",
       "      <th>address</th>\n",
       "      <th>price</th>\n",
       "      <th>floor_size</th>\n",
       "      <th>bathrooms</th>\n",
       "      <th>bedrooms</th>\n",
       "      <th>est_mortgage</th>\n",
       "      <th>zprice</th>\n",
       "      <th>latitude</th>\n",
       "      <th>longitude</th>\n",
       "      <th>FACTS</th>\n",
       "      <th>FEATURES</th>\n",
       "      <th>APPLIANCES INCLUDED</th>\n",
       "      <th>ROOM TYPES</th>\n",
       "      <th>CONSTRUCTION</th>\n",
       "      <th>ADDITIONAL FEATURES</th>\n",
       "      <th>OTHER</th>\n",
       "    </tr>\n",
       "  </thead>\n",
       "  <tbody>\n",
       "    <tr>\n",
       "      <th>0</th>\n",
       "      <td>124 Mackenzie St, Brooklyn, NY 11235</td>\n",
       "      <td>520000.0</td>\n",
       "      <td>2700.0</td>\n",
       "      <td>4.0</td>\n",
       "      <td>3.0</td>\n",
       "      <td>1966.0</td>\n",
       "      <td>1519349.0</td>\n",
       "      <td>40.580120</td>\n",
       "      <td>-73.94042</td>\n",
       "      <td>NaN</td>\n",
       "      <td>900 sqft basement, Attic, Deck, Finished basem...</td>\n",
       "      <td>Dishwasher, Dryer, Microwave, Refrigerator, Wa...</td>\n",
       "      <td>Dining room, Family room, Laundry room, Master...</td>\n",
       "      <td>Exterior material: Stucco, Roof type: Composit...</td>\n",
       "      <td>Jacuzzi / Whirlpool, Living room, Parking Type...</td>\n",
       "      <td>Floor size: 2,700 sqft, Heating: Gas, Last rem...</td>\n",
       "    </tr>\n",
       "    <tr>\n",
       "      <th>1</th>\n",
       "      <td>36 Claver Pl, Brooklyn, NY 11238</td>\n",
       "      <td>3195000.0</td>\n",
       "      <td>4500.0</td>\n",
       "      <td>6.0</td>\n",
       "      <td>6.0</td>\n",
       "      <td>12596.0</td>\n",
       "      <td>2649417.0</td>\n",
       "      <td>40.682095</td>\n",
       "      <td>-73.95778</td>\n",
       "      <td>Lot: 2,000 sqft, Multi Family, Built in 1901, ...</td>\n",
       "      <td>Deck, Fenced Yard, Finished basement, Fireplac...</td>\n",
       "      <td>Dishwasher, Dryer, Washer</td>\n",
       "      <td>Dining room, Family room, Library, Office, Wal...</td>\n",
       "      <td>Exterior material: Other, Stories: 4, Structur...</td>\n",
       "      <td>Vintage</td>\n",
       "      <td>Floor size: 4,500 sqft, Last remodel year: 190...</td>\n",
       "    </tr>\n",
       "    <tr>\n",
       "      <th>2</th>\n",
       "      <td>755 Belmont Ave # 01, Brooklyn, NY 11208</td>\n",
       "      <td>499000.0</td>\n",
       "      <td>NaN</td>\n",
       "      <td>3.0</td>\n",
       "      <td>4.0</td>\n",
       "      <td>1913.0</td>\n",
       "      <td>NaN</td>\n",
       "      <td>40.672760</td>\n",
       "      <td>-73.88184</td>\n",
       "      <td>Baths: 2 full, 1 half, Single Family, 4 days o...</td>\n",
       "      <td></td>\n",
       "      <td>NaN</td>\n",
       "      <td>NaN</td>\n",
       "      <td>NaN</td>\n",
       "      <td>NaN</td>\n",
       "      <td>Last remodel year: 2017, Zillow Home ID: 20953...</td>\n",
       "    </tr>\n",
       "    <tr>\n",
       "      <th>3</th>\n",
       "      <td>250 W 15th St APT I, New York, NY 10011</td>\n",
       "      <td>850000.0</td>\n",
       "      <td>725.0</td>\n",
       "      <td>1.0</td>\n",
       "      <td>1.0</td>\n",
       "      <td>3351.0</td>\n",
       "      <td>901980.0</td>\n",
       "      <td>40.739900</td>\n",
       "      <td>-74.00140</td>\n",
       "      <td>Cooperative, Built in 1930, 8 days on Zillow, ...</td>\n",
       "      <td>Elevator, Fireplace, Garden, Patio</td>\n",
       "      <td>Dishwasher</td>\n",
       "      <td>NaN</td>\n",
       "      <td>Unit count: 59</td>\n",
       "      <td>bike_room, cats, co_purchase, dogs, gifts, liv...</td>\n",
       "      <td>Floor size: 725 sqft, Zillow Home ID: 2100550953</td>\n",
       "    </tr>\n",
       "    <tr>\n",
       "      <th>4</th>\n",
       "      <td>2318 E 63rd St, Brooklyn, NY 11234</td>\n",
       "      <td>1890000.0</td>\n",
       "      <td>4800.0</td>\n",
       "      <td>4.0</td>\n",
       "      <td>4.0</td>\n",
       "      <td>7451.0</td>\n",
       "      <td>1711219.0</td>\n",
       "      <td>40.612465</td>\n",
       "      <td>-73.90996</td>\n",
       "      <td>NaN</td>\n",
       "      <td>1600 sqft basement, Barbecue, Cable Ready, Con...</td>\n",
       "      <td>Dishwasher, Dryer, Freezer, Garbage disposal, ...</td>\n",
       "      <td>Breakfast nook, Dining room, Family room, Laun...</td>\n",
       "      <td>Exterior material: Brick, Metal, Other, Stone,...</td>\n",
       "      <td>NaN</td>\n",
       "      <td>Floor size: 4,800 sqft, Heating: Gas, Last rem...</td>\n",
       "    </tr>\n",
       "  </tbody>\n",
       "</table>\n",
       "</div>"
      ],
      "text/plain": [
       "                                    address      price  floor_size  bathrooms  \\\n",
       "0      124 Mackenzie St, Brooklyn, NY 11235   520000.0      2700.0        4.0   \n",
       "1          36 Claver Pl, Brooklyn, NY 11238  3195000.0      4500.0        6.0   \n",
       "2  755 Belmont Ave # 01, Brooklyn, NY 11208   499000.0         NaN        3.0   \n",
       "3   250 W 15th St APT I, New York, NY 10011   850000.0       725.0        1.0   \n",
       "4        2318 E 63rd St, Brooklyn, NY 11234  1890000.0      4800.0        4.0   \n",
       "\n",
       "   bedrooms  est_mortgage     zprice   latitude  longitude  \\\n",
       "0       3.0        1966.0  1519349.0  40.580120  -73.94042   \n",
       "1       6.0       12596.0  2649417.0  40.682095  -73.95778   \n",
       "2       4.0        1913.0        NaN  40.672760  -73.88184   \n",
       "3       1.0        3351.0   901980.0  40.739900  -74.00140   \n",
       "4       4.0        7451.0  1711219.0  40.612465  -73.90996   \n",
       "\n",
       "                                               FACTS  \\\n",
       "0                                                NaN   \n",
       "1  Lot: 2,000 sqft, Multi Family, Built in 1901, ...   \n",
       "2  Baths: 2 full, 1 half, Single Family, 4 days o...   \n",
       "3  Cooperative, Built in 1930, 8 days on Zillow, ...   \n",
       "4                                                NaN   \n",
       "\n",
       "                                            FEATURES  \\\n",
       "0  900 sqft basement, Attic, Deck, Finished basem...   \n",
       "1  Deck, Fenced Yard, Finished basement, Fireplac...   \n",
       "2                                                      \n",
       "3                 Elevator, Fireplace, Garden, Patio   \n",
       "4  1600 sqft basement, Barbecue, Cable Ready, Con...   \n",
       "\n",
       "                                 APPLIANCES INCLUDED  \\\n",
       "0  Dishwasher, Dryer, Microwave, Refrigerator, Wa...   \n",
       "1                          Dishwasher, Dryer, Washer   \n",
       "2                                                NaN   \n",
       "3                                         Dishwasher   \n",
       "4  Dishwasher, Dryer, Freezer, Garbage disposal, ...   \n",
       "\n",
       "                                          ROOM TYPES  \\\n",
       "0  Dining room, Family room, Laundry room, Master...   \n",
       "1  Dining room, Family room, Library, Office, Wal...   \n",
       "2                                                NaN   \n",
       "3                                                NaN   \n",
       "4  Breakfast nook, Dining room, Family room, Laun...   \n",
       "\n",
       "                                        CONSTRUCTION  \\\n",
       "0  Exterior material: Stucco, Roof type: Composit...   \n",
       "1  Exterior material: Other, Stories: 4, Structur...   \n",
       "2                                                NaN   \n",
       "3                                     Unit count: 59   \n",
       "4  Exterior material: Brick, Metal, Other, Stone,...   \n",
       "\n",
       "                                 ADDITIONAL FEATURES  \\\n",
       "0  Jacuzzi / Whirlpool, Living room, Parking Type...   \n",
       "1                                            Vintage   \n",
       "2                                                NaN   \n",
       "3  bike_room, cats, co_purchase, dogs, gifts, liv...   \n",
       "4                                                NaN   \n",
       "\n",
       "                                               OTHER  \n",
       "0  Floor size: 2,700 sqft, Heating: Gas, Last rem...  \n",
       "1  Floor size: 4,500 sqft, Last remodel year: 190...  \n",
       "2  Last remodel year: 2017, Zillow Home ID: 20953...  \n",
       "3   Floor size: 725 sqft, Zillow Home ID: 2100550953  \n",
       "4  Floor size: 4,800 sqft, Heating: Gas, Last rem...  "
      ]
     },
     "execution_count": 743,
     "metadata": {},
     "output_type": "execute_result"
    }
   ],
   "source": [
    "df.head()"
   ]
  },
  {
   "cell_type": "code",
   "execution_count": 744,
   "metadata": {
    "collapsed": false
   },
   "outputs": [
    {
     "data": {
      "text/plain": [
       "address                 object\n",
       "price                  float64\n",
       "floor_size             float64\n",
       "bathrooms              float64\n",
       "bedrooms               float64\n",
       "est_mortgage           float64\n",
       "zprice                 float64\n",
       "latitude               float64\n",
       "longitude              float64\n",
       "FACTS                   object\n",
       "FEATURES                object\n",
       "APPLIANCES INCLUDED     object\n",
       "ROOM TYPES              object\n",
       "CONSTRUCTION            object\n",
       "ADDITIONAL FEATURES     object\n",
       "OTHER                   object\n",
       "dtype: object"
      ]
     },
     "execution_count": 744,
     "metadata": {},
     "output_type": "execute_result"
    }
   ],
   "source": [
    "df.dtypes"
   ]
  },
  {
   "cell_type": "code",
   "execution_count": 745,
   "metadata": {
    "collapsed": false
   },
   "outputs": [],
   "source": [
    "df = pd.concat([df,df_final],axis=1)"
   ]
  },
  {
   "cell_type": "code",
   "execution_count": 746,
   "metadata": {
    "collapsed": false
   },
   "outputs": [
    {
     "data": {
      "text/html": [
       "<div>\n",
       "<table border=\"1\" class=\"dataframe\">\n",
       "  <thead>\n",
       "    <tr style=\"text-align: right;\">\n",
       "      <th></th>\n",
       "      <th>address</th>\n",
       "      <th>price</th>\n",
       "      <th>floor_size</th>\n",
       "      <th>bathrooms</th>\n",
       "      <th>bedrooms</th>\n",
       "      <th>est_mortgage</th>\n",
       "      <th>zprice</th>\n",
       "      <th>latitude</th>\n",
       "      <th>longitude</th>\n",
       "      <th>FACTS</th>\n",
       "      <th>FEATURES</th>\n",
       "      <th>APPLIANCES INCLUDED</th>\n",
       "      <th>ROOM TYPES</th>\n",
       "      <th>CONSTRUCTION</th>\n",
       "      <th>ADDITIONAL FEATURES</th>\n",
       "      <th>OTHER</th>\n",
       "      <th>street</th>\n",
       "      <th>barough</th>\n",
       "      <th>state</th>\n",
       "      <th>zip</th>\n",
       "    </tr>\n",
       "  </thead>\n",
       "  <tbody>\n",
       "    <tr>\n",
       "      <th>0</th>\n",
       "      <td>124 Mackenzie St, Brooklyn, NY 11235</td>\n",
       "      <td>520000.0</td>\n",
       "      <td>2700.0</td>\n",
       "      <td>4.0</td>\n",
       "      <td>3.0</td>\n",
       "      <td>1966.0</td>\n",
       "      <td>1519349.0</td>\n",
       "      <td>40.580120</td>\n",
       "      <td>-73.94042</td>\n",
       "      <td>NaN</td>\n",
       "      <td>900 sqft basement, Attic, Deck, Finished basem...</td>\n",
       "      <td>Dishwasher, Dryer, Microwave, Refrigerator, Wa...</td>\n",
       "      <td>Dining room, Family room, Laundry room, Master...</td>\n",
       "      <td>Exterior material: Stucco, Roof type: Composit...</td>\n",
       "      <td>Jacuzzi / Whirlpool, Living room, Parking Type...</td>\n",
       "      <td>Floor size: 2,700 sqft, Heating: Gas, Last rem...</td>\n",
       "      <td>124 Mackenzie St</td>\n",
       "      <td>Brooklyn</td>\n",
       "      <td>NY</td>\n",
       "      <td>11235</td>\n",
       "    </tr>\n",
       "    <tr>\n",
       "      <th>1</th>\n",
       "      <td>36 Claver Pl, Brooklyn, NY 11238</td>\n",
       "      <td>3195000.0</td>\n",
       "      <td>4500.0</td>\n",
       "      <td>6.0</td>\n",
       "      <td>6.0</td>\n",
       "      <td>12596.0</td>\n",
       "      <td>2649417.0</td>\n",
       "      <td>40.682095</td>\n",
       "      <td>-73.95778</td>\n",
       "      <td>Lot: 2,000 sqft, Multi Family, Built in 1901, ...</td>\n",
       "      <td>Deck, Fenced Yard, Finished basement, Fireplac...</td>\n",
       "      <td>Dishwasher, Dryer, Washer</td>\n",
       "      <td>Dining room, Family room, Library, Office, Wal...</td>\n",
       "      <td>Exterior material: Other, Stories: 4, Structur...</td>\n",
       "      <td>Vintage</td>\n",
       "      <td>Floor size: 4,500 sqft, Last remodel year: 190...</td>\n",
       "      <td>36 Claver Pl</td>\n",
       "      <td>Brooklyn</td>\n",
       "      <td>NY</td>\n",
       "      <td>11238</td>\n",
       "    </tr>\n",
       "    <tr>\n",
       "      <th>2</th>\n",
       "      <td>755 Belmont Ave # 01, Brooklyn, NY 11208</td>\n",
       "      <td>499000.0</td>\n",
       "      <td>NaN</td>\n",
       "      <td>3.0</td>\n",
       "      <td>4.0</td>\n",
       "      <td>1913.0</td>\n",
       "      <td>NaN</td>\n",
       "      <td>40.672760</td>\n",
       "      <td>-73.88184</td>\n",
       "      <td>Baths: 2 full, 1 half, Single Family, 4 days o...</td>\n",
       "      <td></td>\n",
       "      <td>NaN</td>\n",
       "      <td>NaN</td>\n",
       "      <td>NaN</td>\n",
       "      <td>NaN</td>\n",
       "      <td>Last remodel year: 2017, Zillow Home ID: 20953...</td>\n",
       "      <td>755 Belmont Ave # 01</td>\n",
       "      <td>Brooklyn</td>\n",
       "      <td>NY</td>\n",
       "      <td>11208</td>\n",
       "    </tr>\n",
       "    <tr>\n",
       "      <th>3</th>\n",
       "      <td>250 W 15th St APT I, New York, NY 10011</td>\n",
       "      <td>850000.0</td>\n",
       "      <td>725.0</td>\n",
       "      <td>1.0</td>\n",
       "      <td>1.0</td>\n",
       "      <td>3351.0</td>\n",
       "      <td>901980.0</td>\n",
       "      <td>40.739900</td>\n",
       "      <td>-74.00140</td>\n",
       "      <td>Cooperative, Built in 1930, 8 days on Zillow, ...</td>\n",
       "      <td>Elevator, Fireplace, Garden, Patio</td>\n",
       "      <td>Dishwasher</td>\n",
       "      <td>NaN</td>\n",
       "      <td>Unit count: 59</td>\n",
       "      <td>bike_room, cats, co_purchase, dogs, gifts, liv...</td>\n",
       "      <td>Floor size: 725 sqft, Zillow Home ID: 2100550953</td>\n",
       "      <td>250 W 15th St APT I</td>\n",
       "      <td>New York</td>\n",
       "      <td>NY</td>\n",
       "      <td>10011</td>\n",
       "    </tr>\n",
       "    <tr>\n",
       "      <th>4</th>\n",
       "      <td>2318 E 63rd St, Brooklyn, NY 11234</td>\n",
       "      <td>1890000.0</td>\n",
       "      <td>4800.0</td>\n",
       "      <td>4.0</td>\n",
       "      <td>4.0</td>\n",
       "      <td>7451.0</td>\n",
       "      <td>1711219.0</td>\n",
       "      <td>40.612465</td>\n",
       "      <td>-73.90996</td>\n",
       "      <td>NaN</td>\n",
       "      <td>1600 sqft basement, Barbecue, Cable Ready, Con...</td>\n",
       "      <td>Dishwasher, Dryer, Freezer, Garbage disposal, ...</td>\n",
       "      <td>Breakfast nook, Dining room, Family room, Laun...</td>\n",
       "      <td>Exterior material: Brick, Metal, Other, Stone,...</td>\n",
       "      <td>NaN</td>\n",
       "      <td>Floor size: 4,800 sqft, Heating: Gas, Last rem...</td>\n",
       "      <td>2318 E 63rd St</td>\n",
       "      <td>Brooklyn</td>\n",
       "      <td>NY</td>\n",
       "      <td>11234</td>\n",
       "    </tr>\n",
       "  </tbody>\n",
       "</table>\n",
       "</div>"
      ],
      "text/plain": [
       "                                    address      price  floor_size  bathrooms  \\\n",
       "0      124 Mackenzie St, Brooklyn, NY 11235   520000.0      2700.0        4.0   \n",
       "1          36 Claver Pl, Brooklyn, NY 11238  3195000.0      4500.0        6.0   \n",
       "2  755 Belmont Ave # 01, Brooklyn, NY 11208   499000.0         NaN        3.0   \n",
       "3   250 W 15th St APT I, New York, NY 10011   850000.0       725.0        1.0   \n",
       "4        2318 E 63rd St, Brooklyn, NY 11234  1890000.0      4800.0        4.0   \n",
       "\n",
       "   bedrooms  est_mortgage     zprice   latitude  longitude  \\\n",
       "0       3.0        1966.0  1519349.0  40.580120  -73.94042   \n",
       "1       6.0       12596.0  2649417.0  40.682095  -73.95778   \n",
       "2       4.0        1913.0        NaN  40.672760  -73.88184   \n",
       "3       1.0        3351.0   901980.0  40.739900  -74.00140   \n",
       "4       4.0        7451.0  1711219.0  40.612465  -73.90996   \n",
       "\n",
       "                                               FACTS  \\\n",
       "0                                                NaN   \n",
       "1  Lot: 2,000 sqft, Multi Family, Built in 1901, ...   \n",
       "2  Baths: 2 full, 1 half, Single Family, 4 days o...   \n",
       "3  Cooperative, Built in 1930, 8 days on Zillow, ...   \n",
       "4                                                NaN   \n",
       "\n",
       "                                            FEATURES  \\\n",
       "0  900 sqft basement, Attic, Deck, Finished basem...   \n",
       "1  Deck, Fenced Yard, Finished basement, Fireplac...   \n",
       "2                                                      \n",
       "3                 Elevator, Fireplace, Garden, Patio   \n",
       "4  1600 sqft basement, Barbecue, Cable Ready, Con...   \n",
       "\n",
       "                                 APPLIANCES INCLUDED  \\\n",
       "0  Dishwasher, Dryer, Microwave, Refrigerator, Wa...   \n",
       "1                          Dishwasher, Dryer, Washer   \n",
       "2                                                NaN   \n",
       "3                                         Dishwasher   \n",
       "4  Dishwasher, Dryer, Freezer, Garbage disposal, ...   \n",
       "\n",
       "                                          ROOM TYPES  \\\n",
       "0  Dining room, Family room, Laundry room, Master...   \n",
       "1  Dining room, Family room, Library, Office, Wal...   \n",
       "2                                                NaN   \n",
       "3                                                NaN   \n",
       "4  Breakfast nook, Dining room, Family room, Laun...   \n",
       "\n",
       "                                        CONSTRUCTION  \\\n",
       "0  Exterior material: Stucco, Roof type: Composit...   \n",
       "1  Exterior material: Other, Stories: 4, Structur...   \n",
       "2                                                NaN   \n",
       "3                                     Unit count: 59   \n",
       "4  Exterior material: Brick, Metal, Other, Stone,...   \n",
       "\n",
       "                                 ADDITIONAL FEATURES  \\\n",
       "0  Jacuzzi / Whirlpool, Living room, Parking Type...   \n",
       "1                                            Vintage   \n",
       "2                                                NaN   \n",
       "3  bike_room, cats, co_purchase, dogs, gifts, liv...   \n",
       "4                                                NaN   \n",
       "\n",
       "                                               OTHER                street  \\\n",
       "0  Floor size: 2,700 sqft, Heating: Gas, Last rem...      124 Mackenzie St   \n",
       "1  Floor size: 4,500 sqft, Last remodel year: 190...          36 Claver Pl   \n",
       "2  Last remodel year: 2017, Zillow Home ID: 20953...  755 Belmont Ave # 01   \n",
       "3   Floor size: 725 sqft, Zillow Home ID: 2100550953   250 W 15th St APT I   \n",
       "4  Floor size: 4,800 sqft, Heating: Gas, Last rem...        2318 E 63rd St   \n",
       "\n",
       "    barough state    zip  \n",
       "0  Brooklyn    NY  11235  \n",
       "1  Brooklyn    NY  11238  \n",
       "2  Brooklyn    NY  11208  \n",
       "3  New York    NY  10011  \n",
       "4  Brooklyn    NY  11234  "
      ]
     },
     "execution_count": 746,
     "metadata": {},
     "output_type": "execute_result"
    }
   ],
   "source": [
    "df.head()"
   ]
  },
  {
   "cell_type": "code",
   "execution_count": 747,
   "metadata": {
    "collapsed": true
   },
   "outputs": [],
   "source": [
    "df.to_csv('zillow_clean_final.csv',index=False)"
   ]
  },
  {
   "cell_type": "code",
   "execution_count": null,
   "metadata": {
    "collapsed": true
   },
   "outputs": [],
   "source": [
    "# cleaning TRULIA"
   ]
  },
  {
   "cell_type": "code",
   "execution_count": 3,
   "metadata": {
    "collapsed": false
   },
   "outputs": [],
   "source": [
    "df_trulia = pd.read_csv('listings_trulia.csv')\n",
    "#df_zillow = pd.read_csv('/Users/vMac/Desktop/Bootcamp/Week5/zillow_clean_final.csv')"
   ]
  },
  {
   "cell_type": "code",
   "execution_count": 4,
   "metadata": {
    "collapsed": false
   },
   "outputs": [
    {
     "data": {
      "text/plain": [
       "city                  object\n",
       "listing_id             int64\n",
       "bathrooms              int64\n",
       "price_per_sqft       float64\n",
       "build_year           float64\n",
       "url                   object\n",
       "price                float64\n",
       "bedrooms             float64\n",
       "state                 object\n",
       "longitude            float64\n",
       "zip_code             float64\n",
       "partial_bathrooms    float64\n",
       "street                object\n",
       "address               object\n",
       "latitude             float64\n",
       "house_type            object\n",
       "state_code            object\n",
       "sqft                 float64\n",
       "neighborhood          object\n",
       "dtype: object"
      ]
     },
     "execution_count": 4,
     "metadata": {},
     "output_type": "execute_result"
    }
   ],
   "source": [
    "df_trulia.dtypes"
   ]
  },
  {
   "cell_type": "code",
   "execution_count": 808,
   "metadata": {
    "collapsed": false
   },
   "outputs": [
    {
     "data": {
      "text/plain": [
       "address                 object\n",
       "price                  float64\n",
       "floor_size             float64\n",
       "bathrooms              float64\n",
       "bedrooms               float64\n",
       "est_mortgage           float64\n",
       "zprice                 float64\n",
       "latitude               float64\n",
       "longitude              float64\n",
       "FACTS                   object\n",
       "FEATURES                object\n",
       "APPLIANCES INCLUDED     object\n",
       "ROOM TYPES              object\n",
       "CONSTRUCTION            object\n",
       "ADDITIONAL FEATURES     object\n",
       "OTHER                   object\n",
       "street                  object\n",
       "barough                 object\n",
       "state                   object\n",
       "zip                      int64\n",
       "dtype: object"
      ]
     },
     "execution_count": 808,
     "metadata": {},
     "output_type": "execute_result"
    }
   ],
   "source": [
    "df_zillow.dtypes"
   ]
  },
  {
   "cell_type": "code",
   "execution_count": 5,
   "metadata": {
    "collapsed": false
   },
   "outputs": [
    {
     "data": {
      "text/html": [
       "<div>\n",
       "<table border=\"1\" class=\"dataframe\">\n",
       "  <thead>\n",
       "    <tr style=\"text-align: right;\">\n",
       "      <th></th>\n",
       "      <th>city</th>\n",
       "      <th>listing_id</th>\n",
       "      <th>bathrooms</th>\n",
       "      <th>price_per_sqft</th>\n",
       "      <th>build_year</th>\n",
       "      <th>url</th>\n",
       "      <th>price</th>\n",
       "      <th>bedrooms</th>\n",
       "      <th>state</th>\n",
       "      <th>longitude</th>\n",
       "      <th>zip_code</th>\n",
       "      <th>partial_bathrooms</th>\n",
       "      <th>street</th>\n",
       "      <th>address</th>\n",
       "      <th>latitude</th>\n",
       "      <th>house_type</th>\n",
       "      <th>state_code</th>\n",
       "      <th>sqft</th>\n",
       "      <th>neighborhood</th>\n",
       "    </tr>\n",
       "  </thead>\n",
       "  <tbody>\n",
       "    <tr>\n",
       "      <th>0</th>\n",
       "      <td>New York</td>\n",
       "      <td>3258225322</td>\n",
       "      <td>1</td>\n",
       "      <td>0.00000</td>\n",
       "      <td>1972.0</td>\n",
       "      <td>https://www.trulia.com/property/3258225322-200...</td>\n",
       "      <td>689000.0</td>\n",
       "      <td>1.0</td>\n",
       "      <td>New York</td>\n",
       "      <td>-73.99554</td>\n",
       "      <td>10010.0</td>\n",
       "      <td>0.0</td>\n",
       "      <td>E 24th St</td>\n",
       "      <td>200 East 24th Street #505, New York, NY</td>\n",
       "      <td>40.744760</td>\n",
       "      <td>Coop</td>\n",
       "      <td>NY</td>\n",
       "      <td>NaN</td>\n",
       "      <td>Chelsea</td>\n",
       "    </tr>\n",
       "    <tr>\n",
       "      <th>1</th>\n",
       "      <td>New York</td>\n",
       "      <td>3257554568</td>\n",
       "      <td>4</td>\n",
       "      <td>940.37616</td>\n",
       "      <td>1900.0</td>\n",
       "      <td>https://www.trulia.com/property/3257554568-104...</td>\n",
       "      <td>2350000.0</td>\n",
       "      <td>4.0</td>\n",
       "      <td>New York</td>\n",
       "      <td>-73.94345</td>\n",
       "      <td>10027.0</td>\n",
       "      <td>NaN</td>\n",
       "      <td>W 131st St</td>\n",
       "      <td>104 West 131st Street, New York, NY</td>\n",
       "      <td>40.811626</td>\n",
       "      <td>Multi-Family Home</td>\n",
       "      <td>NY</td>\n",
       "      <td>2499.0</td>\n",
       "      <td>Harlem</td>\n",
       "    </tr>\n",
       "    <tr>\n",
       "      <th>2</th>\n",
       "      <td>New York</td>\n",
       "      <td>3258335550</td>\n",
       "      <td>1</td>\n",
       "      <td>958.00000</td>\n",
       "      <td>1956.0</td>\n",
       "      <td>https://www.trulia.com/property/3258335550-440...</td>\n",
       "      <td>479000.0</td>\n",
       "      <td>NaN</td>\n",
       "      <td>New York</td>\n",
       "      <td>-73.95140</td>\n",
       "      <td>10075.0</td>\n",
       "      <td>NaN</td>\n",
       "      <td>E 79th St</td>\n",
       "      <td>440 East 79th Street #14L, New York, NY</td>\n",
       "      <td>40.771446</td>\n",
       "      <td>Coop</td>\n",
       "      <td>NY</td>\n",
       "      <td>500.0</td>\n",
       "      <td>Upper East Side</td>\n",
       "    </tr>\n",
       "    <tr>\n",
       "      <th>3</th>\n",
       "      <td>New York</td>\n",
       "      <td>3231436943</td>\n",
       "      <td>3</td>\n",
       "      <td>2117.99270</td>\n",
       "      <td>1927.0</td>\n",
       "      <td>https://www.trulia.com/property/3231436943-100...</td>\n",
       "      <td>4685000.0</td>\n",
       "      <td>3.0</td>\n",
       "      <td>New York</td>\n",
       "      <td>-74.01257</td>\n",
       "      <td>10007.0</td>\n",
       "      <td>NaN</td>\n",
       "      <td>Barclay St</td>\n",
       "      <td>100 Barclay Street #14R, New York, NY</td>\n",
       "      <td>40.713894</td>\n",
       "      <td>Condo</td>\n",
       "      <td>NY</td>\n",
       "      <td>2212.0</td>\n",
       "      <td>Tribeca</td>\n",
       "    </tr>\n",
       "    <tr>\n",
       "      <th>4</th>\n",
       "      <td>New York</td>\n",
       "      <td>3258504888</td>\n",
       "      <td>1</td>\n",
       "      <td>1453.36230</td>\n",
       "      <td>NaN</td>\n",
       "      <td>https://www.trulia.com/property/3258504888-139...</td>\n",
       "      <td>670000.0</td>\n",
       "      <td>NaN</td>\n",
       "      <td>New York</td>\n",
       "      <td>-73.94878</td>\n",
       "      <td>10029.0</td>\n",
       "      <td>NaN</td>\n",
       "      <td>Park Ave</td>\n",
       "      <td>1399 Park Avenue #12C, New York, NY</td>\n",
       "      <td>40.791435</td>\n",
       "      <td>Condo</td>\n",
       "      <td>NY</td>\n",
       "      <td>461.0</td>\n",
       "      <td>East Harlem</td>\n",
       "    </tr>\n",
       "  </tbody>\n",
       "</table>\n",
       "</div>"
      ],
      "text/plain": [
       "       city  listing_id  bathrooms  price_per_sqft  build_year  \\\n",
       "0  New York  3258225322          1         0.00000      1972.0   \n",
       "1  New York  3257554568          4       940.37616      1900.0   \n",
       "2  New York  3258335550          1       958.00000      1956.0   \n",
       "3  New York  3231436943          3      2117.99270      1927.0   \n",
       "4  New York  3258504888          1      1453.36230         NaN   \n",
       "\n",
       "                                                 url      price  bedrooms  \\\n",
       "0  https://www.trulia.com/property/3258225322-200...   689000.0       1.0   \n",
       "1  https://www.trulia.com/property/3257554568-104...  2350000.0       4.0   \n",
       "2  https://www.trulia.com/property/3258335550-440...   479000.0       NaN   \n",
       "3  https://www.trulia.com/property/3231436943-100...  4685000.0       3.0   \n",
       "4  https://www.trulia.com/property/3258504888-139...   670000.0       NaN   \n",
       "\n",
       "      state  longitude  zip_code  partial_bathrooms      street  \\\n",
       "0  New York  -73.99554   10010.0                0.0   E 24th St   \n",
       "1  New York  -73.94345   10027.0                NaN  W 131st St   \n",
       "2  New York  -73.95140   10075.0                NaN   E 79th St   \n",
       "3  New York  -74.01257   10007.0                NaN  Barclay St   \n",
       "4  New York  -73.94878   10029.0                NaN    Park Ave   \n",
       "\n",
       "                                   address   latitude         house_type  \\\n",
       "0  200 East 24th Street #505, New York, NY  40.744760               Coop   \n",
       "1      104 West 131st Street, New York, NY  40.811626  Multi-Family Home   \n",
       "2  440 East 79th Street #14L, New York, NY  40.771446               Coop   \n",
       "3    100 Barclay Street #14R, New York, NY  40.713894              Condo   \n",
       "4      1399 Park Avenue #12C, New York, NY  40.791435              Condo   \n",
       "\n",
       "  state_code    sqft     neighborhood  \n",
       "0         NY     NaN          Chelsea  \n",
       "1         NY  2499.0           Harlem  \n",
       "2         NY   500.0  Upper East Side  \n",
       "3         NY  2212.0          Tribeca  \n",
       "4         NY   461.0      East Harlem  "
      ]
     },
     "execution_count": 5,
     "metadata": {},
     "output_type": "execute_result"
    }
   ],
   "source": [
    "df_trulia.head()"
   ]
  },
  {
   "cell_type": "code",
   "execution_count": 810,
   "metadata": {
    "collapsed": false
   },
   "outputs": [
    {
     "data": {
      "text/plain": [
       "2"
      ]
     },
     "execution_count": 810,
     "metadata": {},
     "output_type": "execute_result"
    }
   ],
   "source": [
    "# change the zip in trulia to int format\n",
    "#df_trulia[['zip_code']].astype(int)\n",
    "pd.isnull(df_trulia['zip_code']).sum()"
   ]
  },
  {
   "cell_type": "code",
   "execution_count": 811,
   "metadata": {
    "collapsed": false
   },
   "outputs": [
    {
     "data": {
      "text/plain": [
       "0    False\n",
       "1    False\n",
       "2    False\n",
       "3    False\n",
       "4    False\n",
       "Name: zip_code, dtype: bool"
      ]
     },
     "execution_count": 811,
     "metadata": {},
     "output_type": "execute_result"
    }
   ],
   "source": [
    "# lets see which ones are these \n",
    "# pd.isnull(df_trulia['zip_code']).values\n",
    "pd.isnull(df_trulia['zip_code']).head()"
   ]
  },
  {
   "cell_type": "code",
   "execution_count": 815,
   "metadata": {
    "collapsed": false
   },
   "outputs": [],
   "source": [
    "# i found them, and decided to just delete the fucking thing, too expancive and they are not worth my time,\n",
    "# because they didnt care to take the time to list their add properly\n",
    "# df_trulia[pd.isnull(df_trulia['zip_code'])] = None # this didn't work well\n",
    "# need to use df.drop()\n",
    "df_trulia.drop([141,146], inplace = True)"
   ]
  },
  {
   "cell_type": "code",
   "execution_count": 816,
   "metadata": {
    "collapsed": false
   },
   "outputs": [
    {
     "data": {
      "text/html": [
       "<div>\n",
       "<table border=\"1\" class=\"dataframe\">\n",
       "  <thead>\n",
       "    <tr style=\"text-align: right;\">\n",
       "      <th></th>\n",
       "      <th>city</th>\n",
       "      <th>listing_id</th>\n",
       "      <th>bathrooms</th>\n",
       "      <th>price_per_sqft</th>\n",
       "      <th>build_year</th>\n",
       "      <th>url</th>\n",
       "      <th>price</th>\n",
       "      <th>bedrooms</th>\n",
       "      <th>state</th>\n",
       "      <th>longitude</th>\n",
       "      <th>zip_code</th>\n",
       "      <th>partial_bathrooms</th>\n",
       "      <th>street</th>\n",
       "      <th>address</th>\n",
       "      <th>latitude</th>\n",
       "      <th>house_type</th>\n",
       "      <th>state_code</th>\n",
       "      <th>sqft</th>\n",
       "      <th>neighborhood</th>\n",
       "    </tr>\n",
       "  </thead>\n",
       "  <tbody>\n",
       "  </tbody>\n",
       "</table>\n",
       "</div>"
      ],
      "text/plain": [
       "Empty DataFrame\n",
       "Columns: [city, listing_id, bathrooms, price_per_sqft, build_year, url, price, bedrooms, state, longitude, zip_code, partial_bathrooms, street, address, latitude, house_type, state_code, sqft, neighborhood]\n",
       "Index: []"
      ]
     },
     "execution_count": 816,
     "metadata": {},
     "output_type": "execute_result"
    }
   ],
   "source": [
    "df_trulia[pd.isnull(df_trulia['zip_code'])]\n",
    "#df_trulia[['zip_code']].astype(int)"
   ]
  },
  {
   "cell_type": "code",
   "execution_count": 824,
   "metadata": {
    "collapsed": false
   },
   "outputs": [],
   "source": [
    "df_trulia['zip_code']=df_trulia[['zip_code']].astype(int)"
   ]
  },
  {
   "cell_type": "code",
   "execution_count": 828,
   "metadata": {
    "collapsed": false
   },
   "outputs": [
    {
     "data": {
      "text/html": [
       "<div>\n",
       "<table border=\"1\" class=\"dataframe\">\n",
       "  <thead>\n",
       "    <tr style=\"text-align: right;\">\n",
       "      <th></th>\n",
       "      <th>zip_code</th>\n",
       "    </tr>\n",
       "  </thead>\n",
       "  <tbody>\n",
       "    <tr>\n",
       "      <th>0</th>\n",
       "      <td>10005</td>\n",
       "    </tr>\n",
       "    <tr>\n",
       "      <th>1</th>\n",
       "      <td>10065</td>\n",
       "    </tr>\n",
       "    <tr>\n",
       "      <th>2</th>\n",
       "      <td>10022</td>\n",
       "    </tr>\n",
       "    <tr>\n",
       "      <th>3</th>\n",
       "      <td>10028</td>\n",
       "    </tr>\n",
       "    <tr>\n",
       "      <th>4</th>\n",
       "      <td>10001</td>\n",
       "    </tr>\n",
       "  </tbody>\n",
       "</table>\n",
       "</div>"
      ],
      "text/plain": [
       "   zip_code\n",
       "0     10005\n",
       "1     10065\n",
       "2     10022\n",
       "3     10028\n",
       "4     10001"
      ]
     },
     "execution_count": 828,
     "metadata": {},
     "output_type": "execute_result"
    }
   ],
   "source": [
    "df_trulia[['zip_code']].head()"
   ]
  },
  {
   "cell_type": "code",
   "execution_count": 831,
   "metadata": {
    "collapsed": false
   },
   "outputs": [
    {
     "data": {
      "text/plain": [
       "city                  object\n",
       "listing_id             int64\n",
       "bathrooms              int64\n",
       "price_per_sqft       float64\n",
       "build_year           float64\n",
       "url                   object\n",
       "price                  int64\n",
       "bedrooms             float64\n",
       "state                 object\n",
       "longitude            float64\n",
       "zip_code               int64\n",
       "partial_bathrooms    float64\n",
       "street                object\n",
       "address               object\n",
       "latitude             float64\n",
       "house_type            object\n",
       "state_code            object\n",
       "sqft                 float64\n",
       "neighborhood          object\n",
       "dtype: object"
      ]
     },
     "execution_count": 831,
     "metadata": {},
     "output_type": "execute_result"
    }
   ],
   "source": [
    "df_trulia.dtypes"
   ]
  },
  {
   "cell_type": "code",
   "execution_count": 832,
   "metadata": {
    "collapsed": true
   },
   "outputs": [],
   "source": [
    "df_trulia.to_csv('/Users/vMac/Desktop/Bootcamp/Week5/trulia_clean_final.csv',index=False)"
   ]
  },
  {
   "cell_type": "code",
   "execution_count": null,
   "metadata": {
    "collapsed": true
   },
   "outputs": [],
   "source": [
    "# THE END"
   ]
  }
 ],
 "metadata": {
  "anaconda-cloud": {},
  "kernelspec": {
   "display_name": "Python [conda root]",
   "language": "python",
   "name": "conda-root-py"
  },
  "language_info": {
   "codemirror_mode": {
    "name": "ipython",
    "version": 2
   },
   "file_extension": ".py",
   "mimetype": "text/x-python",
   "name": "python",
   "nbconvert_exporter": "python",
   "pygments_lexer": "ipython2",
   "version": "2.7.12"
  }
 },
 "nbformat": 4,
 "nbformat_minor": 1
}
