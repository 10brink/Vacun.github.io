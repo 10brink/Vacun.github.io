{
 "cells": [
  {
   "cell_type": "code",
   "execution_count": 1,
   "metadata": {
    "collapsed": true
   },
   "outputs": [],
   "source": [
    "import numpy as np\n",
    "import pandas as pd"
   ]
  },
  {
   "cell_type": "code",
   "execution_count": 2,
   "metadata": {
    "collapsed": true
   },
   "outputs": [],
   "source": [
    "df = pd.read_csv('zillo_clean1.csv')"
   ]
  },
  {
   "cell_type": "code",
   "execution_count": 3,
   "metadata": {
    "collapsed": false
   },
   "outputs": [
    {
     "data": {
      "text/html": [
       "<div>\n",
       "<table border=\"1\" class=\"dataframe\">\n",
       "  <thead>\n",
       "    <tr style=\"text-align: right;\">\n",
       "      <th></th>\n",
       "      <th>address</th>\n",
       "      <th>price</th>\n",
       "      <th>floor_size</th>\n",
       "      <th>bathrooms</th>\n",
       "      <th>bedrooms</th>\n",
       "      <th>est_mortgage</th>\n",
       "      <th>zprice</th>\n",
       "      <th>latitude</th>\n",
       "      <th>longitude</th>\n",
       "      <th>FACTS</th>\n",
       "      <th>FEATURES</th>\n",
       "      <th>APPLIANCES INCLUDED</th>\n",
       "      <th>ROOM TYPES</th>\n",
       "      <th>CONSTRUCTION</th>\n",
       "      <th>ADDITIONAL FEATURES</th>\n",
       "      <th>OTHER</th>\n",
       "    </tr>\n",
       "  </thead>\n",
       "  <tbody>\n",
       "    <tr>\n",
       "      <th>0</th>\n",
       "      <td>['124 Mackenzie St', 'Brooklyn', 'NY 11235']</td>\n",
       "      <td>520000.0</td>\n",
       "      <td>2700.0</td>\n",
       "      <td>4.0</td>\n",
       "      <td>3.0</td>\n",
       "      <td>1966.0</td>\n",
       "      <td>1519349.0</td>\n",
       "      <td>40.580120</td>\n",
       "      <td>-73.94042</td>\n",
       "      <td>['nan']</td>\n",
       "      <td>['900 sqft basement', 'Attic', 'Deck', 'Finish...</td>\n",
       "      <td>['Dishwasher', 'Dryer', 'Microwave', 'Refriger...</td>\n",
       "      <td>['Dining room', 'Family room', 'Laundry room',...</td>\n",
       "      <td>['Exterior material: Stucco', 'Roof type: Comp...</td>\n",
       "      <td>['Jacuzzi / Whirlpool', 'Living room', 'Parkin...</td>\n",
       "      <td>['Floor size: 2,700 sqft', 'Heating: Gas', 'La...</td>\n",
       "    </tr>\n",
       "    <tr>\n",
       "      <th>1</th>\n",
       "      <td>['36 Claver Pl', 'Brooklyn', 'NY 11238']</td>\n",
       "      <td>3195000.0</td>\n",
       "      <td>4500.0</td>\n",
       "      <td>6.0</td>\n",
       "      <td>6.0</td>\n",
       "      <td>12596.0</td>\n",
       "      <td>2649417.0</td>\n",
       "      <td>40.682095</td>\n",
       "      <td>-73.95778</td>\n",
       "      <td>['Lot: 2,000 sqft', 'Multi Family', 'Built in ...</td>\n",
       "      <td>['Deck', 'Fenced Yard', 'Finished basement', '...</td>\n",
       "      <td>['Dishwasher', 'Dryer', 'Washer']</td>\n",
       "      <td>['Dining room', 'Family room', 'Library', 'Off...</td>\n",
       "      <td>['Exterior material: Other', 'Stories: 4', 'St...</td>\n",
       "      <td>['Vintage']</td>\n",
       "      <td>['Floor size: 4,500 sqft', 'Last remodel year:...</td>\n",
       "    </tr>\n",
       "    <tr>\n",
       "      <th>2</th>\n",
       "      <td>['755 Belmont Ave # 01', 'Brooklyn', 'NY 11208']</td>\n",
       "      <td>499000.0</td>\n",
       "      <td>NaN</td>\n",
       "      <td>3.0</td>\n",
       "      <td>4.0</td>\n",
       "      <td>1913.0</td>\n",
       "      <td>NaN</td>\n",
       "      <td>40.672760</td>\n",
       "      <td>-73.88184</td>\n",
       "      <td>['Baths: 2 full, 1 half', 'Single Family', '4 ...</td>\n",
       "      <td>['']</td>\n",
       "      <td>['nan']</td>\n",
       "      <td>['nan']</td>\n",
       "      <td>['nan']</td>\n",
       "      <td>['nan']</td>\n",
       "      <td>['Last remodel year: 2017', 'Zillow Home ID: 2...</td>\n",
       "    </tr>\n",
       "    <tr>\n",
       "      <th>3</th>\n",
       "      <td>['250 W 15th St APT I', 'New York', 'NY 10011']</td>\n",
       "      <td>850000.0</td>\n",
       "      <td>725.0</td>\n",
       "      <td>1.0</td>\n",
       "      <td>1.0</td>\n",
       "      <td>3351.0</td>\n",
       "      <td>901980.0</td>\n",
       "      <td>40.739900</td>\n",
       "      <td>-74.00140</td>\n",
       "      <td>['Cooperative', 'Built in 1930', '8 days on Zi...</td>\n",
       "      <td>['Elevator', 'Fireplace', 'Garden', 'Patio']</td>\n",
       "      <td>['Dishwasher']</td>\n",
       "      <td>['nan']</td>\n",
       "      <td>['Unit count: 59']</td>\n",
       "      <td>['bike_room', 'cats', 'co_purchase', 'dogs', '...</td>\n",
       "      <td>['Floor size: 725 sqft', 'Zillow Home ID: 2100...</td>\n",
       "    </tr>\n",
       "    <tr>\n",
       "      <th>4</th>\n",
       "      <td>['2318 E 63rd St', 'Brooklyn', 'NY 11234']</td>\n",
       "      <td>1890000.0</td>\n",
       "      <td>4800.0</td>\n",
       "      <td>4.0</td>\n",
       "      <td>4.0</td>\n",
       "      <td>7451.0</td>\n",
       "      <td>1711219.0</td>\n",
       "      <td>40.612465</td>\n",
       "      <td>-73.90996</td>\n",
       "      <td>['nan']</td>\n",
       "      <td>['1600 sqft basement', 'Barbecue', 'Cable Read...</td>\n",
       "      <td>['Dishwasher', 'Dryer', 'Freezer', 'Garbage di...</td>\n",
       "      <td>['Breakfast nook', 'Dining room', 'Family room...</td>\n",
       "      <td>['Exterior material: Brick, Metal, Other, Ston...</td>\n",
       "      <td>['nan']</td>\n",
       "      <td>['Floor size: 4,800 sqft', 'Heating: Gas', 'La...</td>\n",
       "    </tr>\n",
       "  </tbody>\n",
       "</table>\n",
       "</div>"
      ],
      "text/plain": [
       "                                            address      price  floor_size  \\\n",
       "0      ['124 Mackenzie St', 'Brooklyn', 'NY 11235']   520000.0      2700.0   \n",
       "1          ['36 Claver Pl', 'Brooklyn', 'NY 11238']  3195000.0      4500.0   \n",
       "2  ['755 Belmont Ave # 01', 'Brooklyn', 'NY 11208']   499000.0         NaN   \n",
       "3   ['250 W 15th St APT I', 'New York', 'NY 10011']   850000.0       725.0   \n",
       "4        ['2318 E 63rd St', 'Brooklyn', 'NY 11234']  1890000.0      4800.0   \n",
       "\n",
       "   bathrooms  bedrooms  est_mortgage     zprice   latitude  longitude  \\\n",
       "0        4.0       3.0        1966.0  1519349.0  40.580120  -73.94042   \n",
       "1        6.0       6.0       12596.0  2649417.0  40.682095  -73.95778   \n",
       "2        3.0       4.0        1913.0        NaN  40.672760  -73.88184   \n",
       "3        1.0       1.0        3351.0   901980.0  40.739900  -74.00140   \n",
       "4        4.0       4.0        7451.0  1711219.0  40.612465  -73.90996   \n",
       "\n",
       "                                               FACTS  \\\n",
       "0                                            ['nan']   \n",
       "1  ['Lot: 2,000 sqft', 'Multi Family', 'Built in ...   \n",
       "2  ['Baths: 2 full, 1 half', 'Single Family', '4 ...   \n",
       "3  ['Cooperative', 'Built in 1930', '8 days on Zi...   \n",
       "4                                            ['nan']   \n",
       "\n",
       "                                            FEATURES  \\\n",
       "0  ['900 sqft basement', 'Attic', 'Deck', 'Finish...   \n",
       "1  ['Deck', 'Fenced Yard', 'Finished basement', '...   \n",
       "2                                               ['']   \n",
       "3       ['Elevator', 'Fireplace', 'Garden', 'Patio']   \n",
       "4  ['1600 sqft basement', 'Barbecue', 'Cable Read...   \n",
       "\n",
       "                                 APPLIANCES INCLUDED  \\\n",
       "0  ['Dishwasher', 'Dryer', 'Microwave', 'Refriger...   \n",
       "1                  ['Dishwasher', 'Dryer', 'Washer']   \n",
       "2                                            ['nan']   \n",
       "3                                     ['Dishwasher']   \n",
       "4  ['Dishwasher', 'Dryer', 'Freezer', 'Garbage di...   \n",
       "\n",
       "                                          ROOM TYPES  \\\n",
       "0  ['Dining room', 'Family room', 'Laundry room',...   \n",
       "1  ['Dining room', 'Family room', 'Library', 'Off...   \n",
       "2                                            ['nan']   \n",
       "3                                            ['nan']   \n",
       "4  ['Breakfast nook', 'Dining room', 'Family room...   \n",
       "\n",
       "                                        CONSTRUCTION  \\\n",
       "0  ['Exterior material: Stucco', 'Roof type: Comp...   \n",
       "1  ['Exterior material: Other', 'Stories: 4', 'St...   \n",
       "2                                            ['nan']   \n",
       "3                                 ['Unit count: 59']   \n",
       "4  ['Exterior material: Brick, Metal, Other, Ston...   \n",
       "\n",
       "                                 ADDITIONAL FEATURES  \\\n",
       "0  ['Jacuzzi / Whirlpool', 'Living room', 'Parkin...   \n",
       "1                                        ['Vintage']   \n",
       "2                                            ['nan']   \n",
       "3  ['bike_room', 'cats', 'co_purchase', 'dogs', '...   \n",
       "4                                            ['nan']   \n",
       "\n",
       "                                               OTHER  \n",
       "0  ['Floor size: 2,700 sqft', 'Heating: Gas', 'La...  \n",
       "1  ['Floor size: 4,500 sqft', 'Last remodel year:...  \n",
       "2  ['Last remodel year: 2017', 'Zillow Home ID: 2...  \n",
       "3  ['Floor size: 725 sqft', 'Zillow Home ID: 2100...  \n",
       "4  ['Floor size: 4,800 sqft', 'Heating: Gas', 'La...  "
      ]
     },
     "execution_count": 3,
     "metadata": {},
     "output_type": "execute_result"
    }
   ],
   "source": [
    "df.head()"
   ]
  },
  {
   "cell_type": "code",
   "execution_count": 43,
   "metadata": {
    "collapsed": false
   },
   "outputs": [],
   "source": [
    "df1 = df.iloc[:1,:]"
   ]
  },
  {
   "cell_type": "code",
   "execution_count": 44,
   "metadata": {
    "collapsed": false
   },
   "outputs": [
    {
     "data": {
      "text/html": [
       "<div>\n",
       "<table border=\"1\" class=\"dataframe\">\n",
       "  <thead>\n",
       "    <tr style=\"text-align: right;\">\n",
       "      <th></th>\n",
       "      <th>address</th>\n",
       "      <th>price</th>\n",
       "      <th>floor_size</th>\n",
       "      <th>bathrooms</th>\n",
       "      <th>bedrooms</th>\n",
       "      <th>est_mortgage</th>\n",
       "      <th>zprice</th>\n",
       "      <th>latitude</th>\n",
       "      <th>longitude</th>\n",
       "      <th>FACTS</th>\n",
       "      <th>FEATURES</th>\n",
       "      <th>APPLIANCES INCLUDED</th>\n",
       "      <th>ROOM TYPES</th>\n",
       "      <th>CONSTRUCTION</th>\n",
       "      <th>ADDITIONAL FEATURES</th>\n",
       "      <th>OTHER</th>\n",
       "    </tr>\n",
       "  </thead>\n",
       "  <tbody>\n",
       "    <tr>\n",
       "      <th>0</th>\n",
       "      <td>['124 Mackenzie St', 'Brooklyn', 'NY 11235']</td>\n",
       "      <td>520000.0</td>\n",
       "      <td>2700.0</td>\n",
       "      <td>4.0</td>\n",
       "      <td>3.0</td>\n",
       "      <td>1966.0</td>\n",
       "      <td>1519349.0</td>\n",
       "      <td>40.58012</td>\n",
       "      <td>-73.94042</td>\n",
       "      <td>['nan']</td>\n",
       "      <td>['900 sqft basement', 'Attic', 'Deck', 'Finish...</td>\n",
       "      <td>['Dishwasher', 'Dryer', 'Microwave', 'Refriger...</td>\n",
       "      <td>['Dining room', 'Family room', 'Laundry room',...</td>\n",
       "      <td>['Exterior material: Stucco', 'Roof type: Comp...</td>\n",
       "      <td>['Jacuzzi / Whirlpool', 'Living room', 'Parkin...</td>\n",
       "      <td>['Floor size: 2,700 sqft', 'Heating: Gas', 'La...</td>\n",
       "    </tr>\n",
       "  </tbody>\n",
       "</table>\n",
       "</div>"
      ],
      "text/plain": [
       "                                        address     price  floor_size  \\\n",
       "0  ['124 Mackenzie St', 'Brooklyn', 'NY 11235']  520000.0      2700.0   \n",
       "\n",
       "   bathrooms  bedrooms  est_mortgage     zprice  latitude  longitude    FACTS  \\\n",
       "0        4.0       3.0        1966.0  1519349.0  40.58012  -73.94042  ['nan']   \n",
       "\n",
       "                                            FEATURES  \\\n",
       "0  ['900 sqft basement', 'Attic', 'Deck', 'Finish...   \n",
       "\n",
       "                                 APPLIANCES INCLUDED  \\\n",
       "0  ['Dishwasher', 'Dryer', 'Microwave', 'Refriger...   \n",
       "\n",
       "                                          ROOM TYPES  \\\n",
       "0  ['Dining room', 'Family room', 'Laundry room',...   \n",
       "\n",
       "                                        CONSTRUCTION  \\\n",
       "0  ['Exterior material: Stucco', 'Roof type: Comp...   \n",
       "\n",
       "                                 ADDITIONAL FEATURES  \\\n",
       "0  ['Jacuzzi / Whirlpool', 'Living room', 'Parkin...   \n",
       "\n",
       "                                               OTHER  \n",
       "0  ['Floor size: 2,700 sqft', 'Heating: Gas', 'La...  "
      ]
     },
     "execution_count": 44,
     "metadata": {},
     "output_type": "execute_result"
    }
   ],
   "source": [
    "df1"
   ]
  },
  {
   "cell_type": "code",
   "execution_count": 45,
   "metadata": {
    "collapsed": false
   },
   "outputs": [
    {
     "data": {
      "text/plain": [
       "pandas.core.frame.DataFrame"
      ]
     },
     "execution_count": 45,
     "metadata": {},
     "output_type": "execute_result"
    }
   ],
   "source": [
    "type(df1)"
   ]
  },
  {
   "cell_type": "code",
   "execution_count": 48,
   "metadata": {
    "collapsed": false
   },
   "outputs": [
    {
     "data": {
      "text/html": [
       "<div>\n",
       "<table border=\"1\" class=\"dataframe\">\n",
       "  <thead>\n",
       "    <tr style=\"text-align: right;\">\n",
       "      <th></th>\n",
       "      <th>0</th>\n",
       "    </tr>\n",
       "  </thead>\n",
       "  <tbody>\n",
       "    <tr>\n",
       "      <th>0</th>\n",
       "      <td>['124 Mackenzie St', 'Brooklyn', 'NY 11235']</td>\n",
       "    </tr>\n",
       "  </tbody>\n",
       "</table>\n",
       "</div>"
      ],
      "text/plain": [
       "                                              0\n",
       "0  ['124 Mackenzie St', 'Brooklyn', 'NY 11235']"
      ]
     },
     "execution_count": 48,
     "metadata": {},
     "output_type": "execute_result"
    }
   ],
   "source": [
    "df1['address'].apply(pd.Series)"
   ]
  },
  {
   "cell_type": "code",
   "execution_count": 52,
   "metadata": {
    "collapsed": false
   },
   "outputs": [
    {
     "data": {
      "text/plain": [
       "str"
      ]
     },
     "execution_count": 52,
     "metadata": {},
     "output_type": "execute_result"
    }
   ],
   "source": [
    "type(df1['address'][0])"
   ]
  },
  {
   "cell_type": "code",
   "execution_count": 53,
   "metadata": {
    "collapsed": true
   },
   "outputs": [],
   "source": [
    "# so i need to change all the list into \";\".join() becouse when i write it into the csv, i get strings only with []s"
   ]
  },
  {
   "cell_type": "code",
   "execution_count": null,
   "metadata": {
    "collapsed": true
   },
   "outputs": [],
   "source": []
  }
 ],
 "metadata": {
  "kernelspec": {
   "display_name": "Python [conda root]",
   "language": "python",
   "name": "conda-root-py"
  },
  "language_info": {
   "codemirror_mode": {
    "name": "ipython",
    "version": 2
   },
   "file_extension": ".py",
   "mimetype": "text/x-python",
   "name": "python",
   "nbconvert_exporter": "python",
   "pygments_lexer": "ipython2",
   "version": "2.7.12"
  }
 },
 "nbformat": 4,
 "nbformat_minor": 2
}
